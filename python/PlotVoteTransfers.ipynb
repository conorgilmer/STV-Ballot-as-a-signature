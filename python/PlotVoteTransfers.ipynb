{
 "cells": [
  {
   "cell_type": "markdown",
   "metadata": {},
   "source": [
    "# Plot Vote Transfers on the Political Compass"
   ]
  },
  {
   "cell_type": "code",
   "execution_count": 1,
   "metadata": {},
   "outputs": [],
   "source": [
    "#draw a graph of the political compass, tracking a PR-STV vote\n",
    "import matplotlib.pyplot as plt\n",
    "import pandas as pd\n",
    "import numpy as np"
   ]
  },
  {
   "cell_type": "markdown",
   "metadata": {},
   "source": [
    "## read file select row number to plot vote transfer"
   ]
  },
  {
   "cell_type": "code",
   "execution_count": 23,
   "metadata": {},
   "outputs": [
    {
     "name": "stdout",
     "output_type": "stream",
     "text": [
      "Print Data Frame (df.head)\n",
      "Print Column names\n",
      "Index(['Unnamed: 0', 'FF', 'FG', 'NP', 'FF.1', 'FG.1', 'FG.2', 'NPL', 'NP.1',\n",
      "       'NP.2', 'GP', 'NPR', 'SF', 'FF.2', 'LB', 'maxValues', 'Euclid Dist',\n",
      "       'Avg. Euc. Dist', 'Seq'],\n",
      "      dtype='object')\n",
      "Index(['FF', 'FG', 'NP', 'FF.1', 'FG.1', 'FG.2', 'NPL', 'NP.1', 'NP.2', 'GP',\n",
      "       'NPR', 'SF', 'FF.2', 'LB'],\n",
      "      dtype='object')\n"
     ]
    }
   ],
   "source": [
    "constituency=\"Meath2002\"\n",
    "my_file=\"Meath2002-14P7-r-25000irreg.csv\"\n",
    "row_num=92\n",
    "my_csv='../data/processed/'+my_file\n",
    "\n",
    "#read in data (setting 1st row as header)\n",
    "df = pd.read_csv(my_csv, header=[0]) # na_values=[\"Missing\"], header=[1])\n",
    "\n",
    "#set column names as first line\n",
    "\n",
    "#df.head()\n",
    "print(\"Print Data Frame (df.head)\")\n",
    "#print(df.head(10))\n",
    "print(\"Print Column names\")\n",
    "print(df.columns)\n",
    "\n",
    "#drop the numbers column \n",
    "df = df.drop(df.columns[[0]], axis=1)  # df.columns is zero-based pd.Index\n",
    "#drop last 4 columns\n",
    "df = df.iloc[:, :-4]\n",
    "\n",
    "print(df.columns)"
   ]
  },
  {
   "cell_type": "code",
   "execution_count": 24,
   "metadata": {},
   "outputs": [
    {
     "name": "stdout",
     "output_type": "stream",
     "text": [
      "['FF', 'FG', 'NP', 'FF.1', 'FG.1', 'FG.2', 'NPL', 'NP.1', 'NP.2', 'GP', 'NPR', 'SF', 'FF.2', 'LB']\n",
      "['FF', 'FG', 'NP', 'FF', 'FG', 'FG', 'NP', 'NP', 'NP', 'GP', 'NP', 'SF', 'FF', 'LB']\n"
     ]
    }
   ],
   "source": [
    "# get the party initials (1 characters) from the column names i.e. remove .1 .2 L Retc\n",
    "#print(df.columns)\n",
    "partiesList= list(df.columns)\n",
    "#del partiesList[-1]\n",
    "print(partiesList)\n",
    "partiesList2=[]\n",
    "for pl in partiesList:\n",
    "    #print(pl[:2] )\n",
    "    partiesList2.append(pl[:2])\n",
    "print(partiesList2)"
   ]
  },
  {
   "cell_type": "code",
   "execution_count": 25,
   "metadata": {},
   "outputs": [
    {
     "name": "stdout",
     "output_type": "stream",
     "text": [
      "[nan, nan, nan, 4.0, 6.0, 2.0, nan, 7.0, 3.0, 5.0, nan, 1.0, nan, nan]\n"
     ]
    }
   ],
   "source": [
    "row = list(df.loc[row_num])\n",
    "print(row)\n"
   ]
  },
  {
   "cell_type": "code",
   "execution_count": 26,
   "metadata": {},
   "outputs": [],
   "source": [
    "def getVotesParty(voterow, partieslegend):\n",
    "    #convert a vote row into parties initials\n",
    "    voteP=[]\n",
    "    for v in range(len(voterow)):\n",
    "        for w in range(len(voterow)):\n",
    "            if voterow[w] == v+1:\n",
    "                voteP.append(partieslegend[w])\n",
    "    return(voteP)"
   ]
  },
  {
   "cell_type": "code",
   "execution_count": 27,
   "metadata": {},
   "outputs": [
    {
     "name": "stdout",
     "output_type": "stream",
     "text": [
      "['SF', 'FG', 'NP', 'FF', 'GP', 'FG', 'NP']\n"
     ]
    }
   ],
   "source": [
    "#convert votes to order of parties voted for\n",
    "dVote=getVotesParty(row,partiesList2)\n",
    "print(dVote)"
   ]
  },
  {
   "cell_type": "code",
   "execution_count": 28,
   "metadata": {},
   "outputs": [
    {
     "name": "stdout",
     "output_type": "stream",
     "text": [
      "  party  xaxis  yaxis\n",
      "0    SP   -7.0   -2.5\n",
      "1    SF   -4.5    1.0\n",
      "2    GP   -1.0   -2.0\n",
      "3    NP    0.0    0.0\n",
      "4    LB    1.5   -0.5\n",
      "5    FF    2.5    2.4\n",
      "6    FG    3.5    2.5\n",
      "7    PD    4.0    3.0\n",
      "dfi ['SP', 'SF', 'GP', 'NP', 'LB', 'FF', 'FG', 'PD']\n",
      "1 - SF (-4.5, 1.0)\n",
      "2 - FG (3.5, 2.5)\n",
      "3 - NP (0.0, 0.0)\n",
      "4 - FF (2.5, 2.4)\n",
      "5 - GP (-1.0, -2.0)\n",
      "6 - FG (3.5, 2.5)\n",
      "7 - NP (0.0, 0.0)\n",
      "Euclidean distance between vote 1 and 2 is 8.139410298049853\n",
      "Euclidean distance between vote 2 and 3 is 4.301162633521313\n",
      "Euclidean distance between vote 3 and 4 is 3.4655446902326914\n",
      "Euclidean distance between vote 4 and 5 is 5.622277118748239\n",
      "Euclidean distance between vote 5 and 6 is 6.363961030678928\n",
      "Euclidean distance between vote 6 and 7 is 4.301162633521313\n",
      "Total Distance Travelled on Political Compass as a vote transfers  32.19351840475234\n",
      "Average Distance Travelled on Political Compass of each vote transfers  5.365586400792057\n"
     ]
    },
    {
     "data": {
      "image/png": "[encoded data removed]",
      "text/plain": [
       "<Figure size 504x504 with 1 Axes>"
      ]
     },
     "metadata": {},
     "output_type": "display_data"
    }
   ],
   "source": [
    "#set up the paramaters of the graph, axes and background.\n",
    "xmin, xmax, ymin, ymax = -8, 8, -8, 8\n",
    "ticks_frequency = 1\n",
    "fig, ax = plt.subplots(figsize=(7,7), num=\"PR-STV Vote Traced\") \n",
    "fig.patch.set_facecolor('#ffffff')\n",
    "ax.set(xlim=(xmin-1, xmax+1), ylim=(ymin-1, ymax+1), aspect='equal')\n",
    "ax.spines['bottom'].set_position('zero')\n",
    "ax.spines['left'].set_position('zero')\n",
    "ax.spines['top'].set_visible(False)\n",
    "ax.spines['right'].set_visible(False)\n",
    "ax.set_xlabel('$Left/Right$', size=14, labelpad=-24, x=1.04, y=1)\n",
    "ax.set_ylabel('$Authoritarian/Libertarian$', size=14, labelpad=-21, y=1.02, rotation=0)\n",
    " \n",
    "plt.text(0.49, 0.49, r\"$O$\", ha='right', va='top',\n",
    "    transform=ax.transAxes,\n",
    "         horizontalalignment='center', fontsize=14)\n",
    "\n",
    "x_ticks = np.arange(xmin, xmax+1, ticks_frequency)\n",
    "y_ticks = np.arange(ymin, ymax+1, ticks_frequency)\n",
    "ax.set_xticks(x_ticks[x_ticks != 0])\n",
    "ax.set_yticks(y_ticks[y_ticks != 0])\n",
    "ax.set_xticks(np.arange(xmin, xmax+1), minor=True)\n",
    "ax.set_yticks(np.arange(ymin, ymax+1), minor=True)\n",
    "\n",
    "ax.grid(which='both', color='grey', linewidth=1, linestyle='-', alpha=0.2)\n",
    "\n",
    "# Add title\n",
    "#fig.canvas.set_window_title('PR-STV Vote') #set above\n",
    "fig.suptitle('STV Voter plot', fontsize=16)\n",
    "\n",
    "#download compass data positioning irish political parties on the political spectrum\n",
    "indata='../data/pc.csv'\n",
    "\n",
    "#set column names\n",
    "col_names = ['party', 'xaxis', 'yaxis']\n",
    "#read in data\n",
    "df = pd.read_csv(indata, na_values=[\"Missing\"], names=col_names)\n",
    "print(df)\n",
    "points=[]\n",
    "points = df.party\n",
    "x=[] #x-axis coordinates\n",
    "y=[] #y-axis coordinates\n",
    "pt=[]\n",
    "\n",
    "#populate two lists with the x and y - coordinates\n",
    "for p in points:\n",
    "    pt.append(df.party)\n",
    "    x.append(df.xaxis)\n",
    "    y.append(df.yaxis)\n",
    "\n",
    "#Irregular Vote\n",
    "#dVote= ['NP', 'SP', 'LB', 'SF', 'FF', 'GP', 'FG']\n",
    "#Regular Vote\n",
    "#dVote =['FG','FG','FF', 'GP']\n",
    "\n",
    "#populate 3 lists with text, x co-ord and y co-ord\n",
    "dfi = df.party.tolist()\n",
    "print(\"dfi\",dfi)\n",
    "xi=[]\n",
    "yi=[]\n",
    "pp=[]\n",
    "for d in dVote:\n",
    "    inx=dfi.index(d)\n",
    "    pp.append(df.iloc[inx].tolist()[0])\n",
    "    xi.append(df.iloc[inx].tolist()[1])\n",
    "    yi.append(df.iloc[inx].tolist()[2])\n",
    "#print(df.iloc[inx].tolist()[2])\n",
    "for ip in range(len(pp)):\n",
    "    print(f\"{ip+1} - {pp[ip]} ({xi[ip]}, {yi[ip]})\")\n",
    "\n",
    "\n",
    "#plt.plot((-6.0,-3.5,1,-1.2,1.5,1.5),(-3.5, 1.5,0.2,-1,-1.5,1.5), 'ro-')\n",
    "#plt.plot(df.xaxis.to_numpy(),df.yaxis.to_numpy(), 'ro-')\n",
    "plt.plot(xi,yi, color='green', linewidth=2, linestyle='solid')\n",
    "\n",
    "#Calculate the eculidean distance a vote travels on the political spectrum\n",
    "dist = 0\n",
    "total_dist=0\n",
    "for pl in range(len(pp)):\n",
    "# initializing points in\n",
    "# numpy arrays      \n",
    "    if pl != (len(pp)-1):\n",
    "        point1 = np.array((xi[pl],yi[pl]))\n",
    "        point2 = np.array((xi[pl+1],yi[pl+1]))\n",
    "\n",
    "#calculating Euclidean distance\n",
    "# using linalg.norm()\n",
    "        dist = np.linalg.norm(point1 - point2)\n",
    "        print(f\"Euclidean distance between vote {pl+1} and {pl+2} is {dist}\")\n",
    "        total_dist = total_dist + dist\n",
    "        \n",
    "avg_dist = total_dist/(len(pp)-1)    \n",
    "print(\"Total Distance Travelled on Political Compass as a vote transfers \", total_dist)\n",
    "print(\"Average Distance Travelled on Political Compass of each vote transfers \", avg_dist)\n",
    "\n",
    "\n",
    "#print the vote number above/below the point on the plot\n",
    "pt=df.party.to_numpy()\n",
    "for m in range(len(pp)):\n",
    "    n = xi[m]\n",
    "    o = yi[m]\n",
    "    ptext=pp[m]\n",
    "    vno = \"(\"+str(m+1)+\")\"\n",
    "\n",
    "    if o >= 0:\n",
    "        plt.text(n -0.4, o +0.5, ptext, fontsize=10)\n",
    "        plt.text(n -0.4, o +1.0, vno, fontsize=10)      \n",
    "\n",
    "    else:\n",
    "        plt.text(n -0.4, o -0.9, ptext, fontsize=10)\n",
    "        plt.text(n -0.4, o -1.4, vno, fontsize=10)      \n",
    "\n",
    "#plot all the points\n",
    "plt.scatter(xi,yi)\n",
    "plt.show()"
   ]
  },
  {
   "cell_type": "code",
   "execution_count": null,
   "metadata": {},
   "outputs": [],
   "source": []
  },
  {
   "cell_type": "code",
   "execution_count": null,
   "metadata": {},
   "outputs": [],
   "source": []
  }
 ],
 "metadata": {
  "kernelspec": {
   "display_name": "Python 3",
   "language": "python",
   "name": "python3"
  },
  "language_info": {
   "codemirror_mode": {
    "name": "ipython",
    "version": 3
   },
   "file_extension": ".py",
   "mimetype": "text/x-python",
   "name": "python",
   "nbconvert_exporter": "python",
   "pygments_lexer": "ipython3",
   "version": "3.8.5"
  }
 },
 "nbformat": 4,
 "nbformat_minor": 4
}
