{
 "cells": [
  {
   "cell_type": "code",
   "execution_count": 1,
   "metadata": {
    "scrolled": true
   },
   "outputs": [
    {
     "name": "stdout",
     "output_type": "stream",
     "text": [
      "Print Data Frame (df)\n",
      "       Unnamed: 0   FG   SP   SF   FF    NP  FF.1  FG.1  NP.1    LB   GP  \\\n",
      "0               1  NaN  NaN  NaN  2.0   NaN   NaN   NaN   NaN   NaN  NaN   \n",
      "1               2  NaN  NaN  NaN  1.0   NaN   NaN   3.0   NaN   NaN  NaN   \n",
      "2               3  NaN  NaN  NaN  1.0   NaN   2.0   NaN   NaN   4.0  NaN   \n",
      "3               4  NaN  NaN  NaN  3.0   NaN   2.0   NaN   4.0   NaN  5.0   \n",
      "4               5  3.0  NaN  NaN  NaN   NaN   NaN   NaN   NaN   2.0  1.0   \n",
      "...           ...  ...  ...  ...  ...   ...   ...   ...   ...   ...  ...   \n",
      "43937       43938  3.0  4.0  7.0  NaN   6.0  11.0  10.0   5.0   2.0  1.0   \n",
      "43938       43939  NaN  2.0  NaN  NaN   3.0   NaN   NaN   NaN   NaN  1.0   \n",
      "43939       43940  6.0  1.0  4.0  9.0  12.0   8.0   3.0  11.0  10.0  5.0   \n",
      "43940       43941  7.0  4.0  NaN  6.0   5.0   8.0   3.0   9.0   1.0  2.0   \n",
      "43941       43942  NaN  NaN  NaN  3.0   NaN   2.0   NaN   NaN   NaN  1.0   \n",
      "\n",
      "       NP.2  FF.2  \n",
      "0       NaN   1.0  \n",
      "1       NaN   2.0  \n",
      "2       NaN   3.0  \n",
      "3       NaN   1.0  \n",
      "4       NaN   NaN  \n",
      "...     ...   ...  \n",
      "43937   8.0   9.0  \n",
      "43938   NaN   NaN  \n",
      "43939   2.0   7.0  \n",
      "43940  10.0  11.0  \n",
      "43941   NaN   NaN  \n",
      "\n",
      "[43942 rows x 13 columns]\n",
      "Print Column names\n",
      "Index(['Unnamed: 0', 'FG', 'SP', 'SF', 'FF', 'NP', 'FF.1', 'FG.1', 'NP.1',\n",
      "       'LB', 'GP', 'NP.2', 'FF.2'],\n",
      "      dtype='object')\n"
     ]
    }
   ],
   "source": [
    "#read vote data from csv\n",
    "import matplotlib.pyplot as plt\n",
    "import numpy as np\n",
    "import pandas as pd\n",
    "import math \n",
    "\n",
    "#mathplot inline jupyter\n",
    "%matplotlib inline\n",
    "\n",
    "#input file\n",
    "#constituency=\"Meath2002\"\n",
    "constituency=\"DublinNorth2002\"\n",
    "#constituency=\"DublinWest2002\" #9 candidates\n",
    "my_csv='../data/'+constituency+'.csv'\n",
    "#my_csv ='../data/Meath2002.csv'\n",
    "#my_csv ='../data/DublinNorth2002.csv'\n",
    "#my_csv ='../data/DublinWest2002.csv'\n",
    "\n",
    "#read in data (setting 1st row as header)\n",
    "df = pd.read_csv(my_csv, na_values=[\"Missing\"], header=[0])\n",
    "\n",
    "#set column names as first line\n",
    "df.head()\n",
    "print(\"Print Data Frame (df)\")\n",
    "print(df)\n",
    "print(\"Print Column names\")\n",
    "print(df.columns)\n",
    "\n",
    "#drop the numbers column (#df=df.drop(['No.'], 1))\n",
    "df = df.drop(df.columns[[0]], axis=1)  # df.columns is zero-based pd.Index\n",
    "#reset index to start a 1 and not 0\n",
    "df.index = df.index + 1"
   ]
  },
  {
   "cell_type": "markdown",
   "metadata": {},
   "source": [
    "# Statistics on election - candidates and votes"
   ]
  },
  {
   "cell_type": "code",
   "execution_count": 2,
   "metadata": {},
   "outputs": [
    {
     "name": "stdout",
     "output_type": "stream",
     "text": [
      "Statistics on Dataframe\n",
      "No. of Candidates =  12\n",
      "No. of Votes =  43942\n",
      "No. of all possible Combinations (candidates)! =  479001600\n"
     ]
    }
   ],
   "source": [
    "#Stats No. of Candidates(columns) and Votes(rows), all combinations of candidates = candidates!\n",
    "print(\"Statistics on Dataframe\")\n",
    "candidates = len(df.columns)\n",
    "print(\"No. of Candidates = \", candidates)\n",
    "votes = len(df.index)\n",
    "print(\"No. of Votes = \", votes)\n",
    "print(\"No. of all possible Combinations (candidates)! = \", math.factorial(candidates))"
   ]
  },
  {
   "cell_type": "code",
   "execution_count": 3,
   "metadata": {},
   "outputs": [
    {
     "name": "stdout",
     "output_type": "stream",
     "text": [
      "Index(['FG', 'SP', 'SF', 'FF', 'NP', 'FF.1', 'FG.1', 'NP.1', 'LB', 'GP',\n",
      "       'NP.2', 'FF.2'],\n",
      "      dtype='object')\n"
     ]
    },
    {
     "data": {
      "text/plain": [
       "(43942, 12)"
      ]
     },
     "execution_count": 3,
     "metadata": {},
     "output_type": "execute_result"
    }
   ],
   "source": [
    "print(df.columns)\n",
    "df.shape"
   ]
  },
  {
   "cell_type": "markdown",
   "metadata": {},
   "source": [
    "# Generate Random Sequences"
   ]
  },
  {
   "cell_type": "code",
   "execution_count": 4,
   "metadata": {},
   "outputs": [
    {
     "name": "stderr",
     "output_type": "stream",
     "text": [
      "IOPub data rate exceeded.\n",
      "The notebook server will temporarily stop sending output\n",
      "to the client in order to avoid crashing it.\n",
      "To change this limit, set the config variable\n",
      "`--NotebookApp.iopub_data_rate_limit`.\n",
      "\n",
      "Current values:\n",
      "NotebookApp.iopub_data_rate_limit=1000000.0 (bytes/sec)\n",
      "NotebookApp.rate_limit_window=3.0 (secs)\n",
      "\n"
     ]
    },
    {
     "ename": "ValueError",
     "evalue": "12 columns passed, passed data had 9 columns",
     "output_type": "error",
     "traceback": [
      "\u001b[0;31m---------------------------------------------------------------------------\u001b[0m",
      "\u001b[0;31mAssertionError\u001b[0m                            Traceback (most recent call last)",
      "\u001b[0;32m/anaconda38/anaconda3/lib/python3.8/site-packages/pandas/core/internals/construction.py\u001b[0m in \u001b[0;36m_list_to_arrays\u001b[0;34m(data, columns, coerce_float, dtype)\u001b[0m\n\u001b[1;32m    563\u001b[0m     \u001b[0;32mtry\u001b[0m\u001b[0;34m:\u001b[0m\u001b[0;34m\u001b[0m\u001b[0;34m\u001b[0m\u001b[0m\n\u001b[0;32m--> 564\u001b[0;31m         \u001b[0mcolumns\u001b[0m \u001b[0;34m=\u001b[0m \u001b[0m_validate_or_indexify_columns\u001b[0m\u001b[0;34m(\u001b[0m\u001b[0mcontent\u001b[0m\u001b[0;34m,\u001b[0m \u001b[0mcolumns\u001b[0m\u001b[0;34m)\u001b[0m\u001b[0;34m\u001b[0m\u001b[0;34m\u001b[0m\u001b[0m\n\u001b[0m\u001b[1;32m    565\u001b[0m         \u001b[0mresult\u001b[0m \u001b[0;34m=\u001b[0m \u001b[0m_convert_object_array\u001b[0m\u001b[0;34m(\u001b[0m\u001b[0mcontent\u001b[0m\u001b[0;34m,\u001b[0m \u001b[0mdtype\u001b[0m\u001b[0;34m=\u001b[0m\u001b[0mdtype\u001b[0m\u001b[0;34m,\u001b[0m \u001b[0mcoerce_float\u001b[0m\u001b[0;34m=\u001b[0m\u001b[0mcoerce_float\u001b[0m\u001b[0;34m)\u001b[0m\u001b[0;34m\u001b[0m\u001b[0;34m\u001b[0m\u001b[0m\n",
      "\u001b[0;32m/anaconda38/anaconda3/lib/python3.8/site-packages/pandas/core/internals/construction.py\u001b[0m in \u001b[0;36m_validate_or_indexify_columns\u001b[0;34m(content, columns)\u001b[0m\n\u001b[1;32m    687\u001b[0m             \u001b[0;31m# caller's responsibility to check for this...\u001b[0m\u001b[0;34m\u001b[0m\u001b[0;34m\u001b[0m\u001b[0;34m\u001b[0m\u001b[0m\n\u001b[0;32m--> 688\u001b[0;31m             raise AssertionError(\n\u001b[0m\u001b[1;32m    689\u001b[0m                 \u001b[0;34mf\"{len(columns)} columns passed, passed data had \"\u001b[0m\u001b[0;34m\u001b[0m\u001b[0;34m\u001b[0m\u001b[0m\n",
      "\u001b[0;31mAssertionError\u001b[0m: 12 columns passed, passed data had 9 columns",
      "\nThe above exception was the direct cause of the following exception:\n",
      "\u001b[0;31mValueError\u001b[0m                                Traceback (most recent call last)",
      "\u001b[0;32m<ipython-input-4-813dea6fadbd>\u001b[0m in \u001b[0;36m<module>\u001b[0;34m\u001b[0m\n\u001b[1;32m     10\u001b[0m \u001b[0;31m#print(\"All Combinations (candidates)!\",math.factorial(candidates))\u001b[0m\u001b[0;34m\u001b[0m\u001b[0;34m\u001b[0m\u001b[0;34m\u001b[0m\u001b[0m\n\u001b[1;32m     11\u001b[0m \u001b[0mprint\u001b[0m\u001b[0;34m(\u001b[0m\u001b[0mallCombinations\u001b[0m\u001b[0;34m)\u001b[0m\u001b[0;34m\u001b[0m\u001b[0;34m\u001b[0m\u001b[0m\n\u001b[0;32m---> 12\u001b[0;31m \u001b[0mdfallCombinations\u001b[0m \u001b[0;34m=\u001b[0m \u001b[0mpd\u001b[0m\u001b[0;34m.\u001b[0m\u001b[0mDataFrame\u001b[0m\u001b[0;34m(\u001b[0m\u001b[0mallCombinations\u001b[0m\u001b[0;34m,\u001b[0m \u001b[0mcolumns\u001b[0m\u001b[0;34m=\u001b[0m\u001b[0mdf\u001b[0m\u001b[0;34m.\u001b[0m\u001b[0mcolumns\u001b[0m\u001b[0;34m)\u001b[0m\u001b[0;34m\u001b[0m\u001b[0;34m\u001b[0m\u001b[0m\n\u001b[0m\u001b[1;32m     13\u001b[0m \u001b[0;31m#display(dfallCombinations)\u001b[0m\u001b[0;34m\u001b[0m\u001b[0;34m\u001b[0m\u001b[0;34m\u001b[0m\u001b[0m\n",
      "\u001b[0;32m/anaconda38/anaconda3/lib/python3.8/site-packages/pandas/core/frame.py\u001b[0m in \u001b[0;36m__init__\u001b[0;34m(self, data, index, columns, dtype, copy)\u001b[0m\n\u001b[1;32m    507\u001b[0m                     \u001b[0;32mif\u001b[0m \u001b[0mis_named_tuple\u001b[0m\u001b[0;34m(\u001b[0m\u001b[0mdata\u001b[0m\u001b[0;34m[\u001b[0m\u001b[0;36m0\u001b[0m\u001b[0;34m]\u001b[0m\u001b[0;34m)\u001b[0m \u001b[0;32mand\u001b[0m \u001b[0mcolumns\u001b[0m \u001b[0;32mis\u001b[0m \u001b[0;32mNone\u001b[0m\u001b[0;34m:\u001b[0m\u001b[0;34m\u001b[0m\u001b[0;34m\u001b[0m\u001b[0m\n\u001b[1;32m    508\u001b[0m                         \u001b[0mcolumns\u001b[0m \u001b[0;34m=\u001b[0m \u001b[0mdata\u001b[0m\u001b[0;34m[\u001b[0m\u001b[0;36m0\u001b[0m\u001b[0;34m]\u001b[0m\u001b[0;34m.\u001b[0m\u001b[0m_fields\u001b[0m\u001b[0;34m\u001b[0m\u001b[0;34m\u001b[0m\u001b[0m\n\u001b[0;32m--> 509\u001b[0;31m                     \u001b[0marrays\u001b[0m\u001b[0;34m,\u001b[0m \u001b[0mcolumns\u001b[0m \u001b[0;34m=\u001b[0m \u001b[0mto_arrays\u001b[0m\u001b[0;34m(\u001b[0m\u001b[0mdata\u001b[0m\u001b[0;34m,\u001b[0m \u001b[0mcolumns\u001b[0m\u001b[0;34m,\u001b[0m \u001b[0mdtype\u001b[0m\u001b[0;34m=\u001b[0m\u001b[0mdtype\u001b[0m\u001b[0;34m)\u001b[0m\u001b[0;34m\u001b[0m\u001b[0;34m\u001b[0m\u001b[0m\n\u001b[0m\u001b[1;32m    510\u001b[0m                     \u001b[0mcolumns\u001b[0m \u001b[0;34m=\u001b[0m \u001b[0mensure_index\u001b[0m\u001b[0;34m(\u001b[0m\u001b[0mcolumns\u001b[0m\u001b[0;34m)\u001b[0m\u001b[0;34m\u001b[0m\u001b[0;34m\u001b[0m\u001b[0m\n\u001b[1;32m    511\u001b[0m \u001b[0;34m\u001b[0m\u001b[0m\n",
      "\u001b[0;32m/anaconda38/anaconda3/lib/python3.8/site-packages/pandas/core/internals/construction.py\u001b[0m in \u001b[0;36mto_arrays\u001b[0;34m(data, columns, coerce_float, dtype)\u001b[0m\n\u001b[1;32m    522\u001b[0m         \u001b[0;32mreturn\u001b[0m \u001b[0;34m[\u001b[0m\u001b[0;34m]\u001b[0m\u001b[0;34m,\u001b[0m \u001b[0;34m[\u001b[0m\u001b[0;34m]\u001b[0m  \u001b[0;31m# columns if columns is not None else []\u001b[0m\u001b[0;34m\u001b[0m\u001b[0;34m\u001b[0m\u001b[0m\n\u001b[1;32m    523\u001b[0m     \u001b[0;32mif\u001b[0m \u001b[0misinstance\u001b[0m\u001b[0;34m(\u001b[0m\u001b[0mdata\u001b[0m\u001b[0;34m[\u001b[0m\u001b[0;36m0\u001b[0m\u001b[0;34m]\u001b[0m\u001b[0;34m,\u001b[0m \u001b[0;34m(\u001b[0m\u001b[0mlist\u001b[0m\u001b[0;34m,\u001b[0m \u001b[0mtuple\u001b[0m\u001b[0;34m)\u001b[0m\u001b[0;34m)\u001b[0m\u001b[0;34m:\u001b[0m\u001b[0;34m\u001b[0m\u001b[0;34m\u001b[0m\u001b[0m\n\u001b[0;32m--> 524\u001b[0;31m         \u001b[0;32mreturn\u001b[0m \u001b[0m_list_to_arrays\u001b[0m\u001b[0;34m(\u001b[0m\u001b[0mdata\u001b[0m\u001b[0;34m,\u001b[0m \u001b[0mcolumns\u001b[0m\u001b[0;34m,\u001b[0m \u001b[0mcoerce_float\u001b[0m\u001b[0;34m=\u001b[0m\u001b[0mcoerce_float\u001b[0m\u001b[0;34m,\u001b[0m \u001b[0mdtype\u001b[0m\u001b[0;34m=\u001b[0m\u001b[0mdtype\u001b[0m\u001b[0;34m)\u001b[0m\u001b[0;34m\u001b[0m\u001b[0;34m\u001b[0m\u001b[0m\n\u001b[0m\u001b[1;32m    525\u001b[0m     \u001b[0;32melif\u001b[0m \u001b[0misinstance\u001b[0m\u001b[0;34m(\u001b[0m\u001b[0mdata\u001b[0m\u001b[0;34m[\u001b[0m\u001b[0;36m0\u001b[0m\u001b[0;34m]\u001b[0m\u001b[0;34m,\u001b[0m \u001b[0mabc\u001b[0m\u001b[0;34m.\u001b[0m\u001b[0mMapping\u001b[0m\u001b[0;34m)\u001b[0m\u001b[0;34m:\u001b[0m\u001b[0;34m\u001b[0m\u001b[0;34m\u001b[0m\u001b[0m\n\u001b[1;32m    526\u001b[0m         return _list_of_dict_to_arrays(\n",
      "\u001b[0;32m/anaconda38/anaconda3/lib/python3.8/site-packages/pandas/core/internals/construction.py\u001b[0m in \u001b[0;36m_list_to_arrays\u001b[0;34m(data, columns, coerce_float, dtype)\u001b[0m\n\u001b[1;32m    565\u001b[0m         \u001b[0mresult\u001b[0m \u001b[0;34m=\u001b[0m \u001b[0m_convert_object_array\u001b[0m\u001b[0;34m(\u001b[0m\u001b[0mcontent\u001b[0m\u001b[0;34m,\u001b[0m \u001b[0mdtype\u001b[0m\u001b[0;34m=\u001b[0m\u001b[0mdtype\u001b[0m\u001b[0;34m,\u001b[0m \u001b[0mcoerce_float\u001b[0m\u001b[0;34m=\u001b[0m\u001b[0mcoerce_float\u001b[0m\u001b[0;34m)\u001b[0m\u001b[0;34m\u001b[0m\u001b[0;34m\u001b[0m\u001b[0m\n\u001b[1;32m    566\u001b[0m     \u001b[0;32mexcept\u001b[0m \u001b[0mAssertionError\u001b[0m \u001b[0;32mas\u001b[0m \u001b[0me\u001b[0m\u001b[0;34m:\u001b[0m\u001b[0;34m\u001b[0m\u001b[0;34m\u001b[0m\u001b[0m\n\u001b[0;32m--> 567\u001b[0;31m         \u001b[0;32mraise\u001b[0m \u001b[0mValueError\u001b[0m\u001b[0;34m(\u001b[0m\u001b[0me\u001b[0m\u001b[0;34m)\u001b[0m \u001b[0;32mfrom\u001b[0m \u001b[0me\u001b[0m\u001b[0;34m\u001b[0m\u001b[0;34m\u001b[0m\u001b[0m\n\u001b[0m\u001b[1;32m    568\u001b[0m     \u001b[0;32mreturn\u001b[0m \u001b[0mresult\u001b[0m\u001b[0;34m,\u001b[0m \u001b[0mcolumns\u001b[0m\u001b[0;34m\u001b[0m\u001b[0;34m\u001b[0m\u001b[0m\n\u001b[1;32m    569\u001b[0m \u001b[0;34m\u001b[0m\u001b[0m\n",
      "\u001b[0;31mValueError\u001b[0m: 12 columns passed, passed data had 9 columns"
     ]
    }
   ],
   "source": [
    "#generate random sequences which could be possible vote combinations\n",
    "from itertools import permutations\n",
    "import pandas as pd\n",
    "import math \n",
    "#lst 1 to n\n",
    "candidates =9\n",
    "listAllCombinations = list(range(1,candidates+1))\n",
    "allCombinations = list(permutations(listAllCombinations))\n",
    "#print(\"All Combinations (candidates)!\",len(allCombinations))\n",
    "#print(\"All Combinations (candidates)!\",math.factorial(candidates))\n",
    "print(allCombinations)\n",
    "dfallCombinations = pd.DataFrame(allCombinations, columns=df.columns)\n",
    "#display(dfallCombinations)"
   ]
  },
  {
   "cell_type": "code",
   "execution_count": 10,
   "metadata": {},
   "outputs": [
    {
     "name": "stdout",
     "output_type": "stream",
     "text": [
      "Index(['GP', 'LB', 'FF', 'SP', 'FF.1', 'SF', 'PD', 'NP', 'FG'], dtype='object')\n"
     ]
    }
   ],
   "source": [
    "#writeto file\n",
    "print(df.columns)\n",
    "#write to csv file\n",
    "dfallCombinations.to_csv('../data/Allperms12.csv')"
   ]
  },
  {
   "cell_type": "code",
   "execution_count": null,
   "metadata": {},
   "outputs": [],
   "source": [
    "#remove regular(actual vote transfers form all combinations)"
   ]
  },
  {
   "cell_type": "code",
   "execution_count": null,
   "metadata": {},
   "outputs": [],
   "source": [
    "#remove possible regular votes - logical party couplets or triplets in sequence"
   ]
  },
  {
   "cell_type": "code",
   "execution_count": null,
   "metadata": {},
   "outputs": [],
   "source": [
    "#create irregular list and dataframe\n",
    "irrList =[]\n",
    "newrow1 =[4,5,6,3,2,1]\n",
    "irrList.append(newrow1)\n",
    "newrow2 =[6,5,4,3,2,1]\n",
    "irrList.append(newrow2)\n",
    "\n",
    "#make dataframe from list\n",
    "dfIrreg = pd.DataFrame(irrList)\n",
    "dfIrreg.columns=df.columns\n",
    "display(dfIrreg)\n",
    "#set all columns as \"I\" Irregular\n",
    "dfIrreg['Type']='I'\n",
    "\n",
    "#set all columns as \"R\" Regular\n",
    "df['Type']='R'\n",
    "print(\"Print Data Frame (df) with Type column\")\n",
    "print(df)"
   ]
  },
  {
   "cell_type": "code",
   "execution_count": null,
   "metadata": {},
   "outputs": [],
   "source": [
    "#Merge Regular and Irregular DataFrames and write to file\n",
    "# merge two data frames\n",
    "print('After merging:')\n",
    "#pd.concat([df, dfIrreg], axis=0)\n",
    "df= df.append(dfIrreg, ignore_index=True)\n",
    "#reset index\n",
    "df.index= df.index+1\n",
    "display(df)\n",
    "\n",
    "#write to csv file\n",
    "df.to_csv('../data/output.csv')"
   ]
  },
  {
   "cell_type": "code",
   "execution_count": null,
   "metadata": {},
   "outputs": [],
   "source": [
    "from itertools import permutations\n",
    "import pandas as pd\n",
    "import math \n",
    "#lst 1 to n\n",
    "candidates = 8\n",
    "listAllCombinations = list(range(1,candidates+1))\n",
    "allCombinations = list(permutations(listAllCombinations))\n",
    "print(\"All Combinations (candidates)!\",len(allCombinations))\n",
    "print(\"All Combinations (candidates)!\",math.factorial(5))\n",
    "print(allCombinations)\n",
    "dfallCombinations = pd.DataFrame(allCombinations)\n",
    "display(dfallCombinations)"
   ]
  },
  {
   "cell_type": "code",
   "execution_count": null,
   "metadata": {},
   "outputs": [],
   "source": [
    "import numpy as np\n",
    "first_list = [12, 13, 14, 12]\n",
    "sec_list   = [12, 13, 14, 12]\n",
    "\n",
    "result = np.array_equal(np.array(first_list), np.array(sec_list))\n",
    "if result:\n",
    "    print('Lists are equal i.e. contain similar elements with same frequency')\n",
    "else:\n",
    "    print('Lists are not equal')"
   ]
  },
  {
   "cell_type": "code",
   "execution_count": null,
   "metadata": {},
   "outputs": [],
   "source": [
    "#how many permutations P(n,r)=n!/(n-r)!\n",
    "import math\n",
    "n=10 #number of candidates\n",
    "r=3 #number of votes/preferences cast by a voter\n",
    "math.factorial(n)\n",
    "P = (math.factorial(n)/math.factorial(n-r))\n",
    "print(f\"Permutations - P(n,r) = P({n},{r}) = {int(P)}\")"
   ]
  },
  {
   "cell_type": "code",
   "execution_count": null,
   "metadata": {},
   "outputs": [],
   "source": [
    "#permutations P(n,r)=n!/(n-r)!\n",
    "from itertools import permutations \n",
    "\n",
    "#generate a list of numbers 1 to n (number of candidates)\n",
    "n=14\n",
    "nList = list(range(1,n+1))\n",
    "print(nList)\n",
    "\n",
    "#the number of numbers r to be generated in a permutation(number of preferences cast)\n",
    "r=8\n",
    "#generate r permutations of the values in nlist\n",
    "p = permutations(nList,r) \n",
    "\n",
    "# Print the obtained permutations \n",
    "for j in list(p): \n",
    "    print(j) "
   ]
  },
  {
   "cell_type": "code",
   "execution_count": null,
   "metadata": {},
   "outputs": [],
   "source": [
    "#select a random number of permutations\n",
    "p = permutations(nList,r) \n",
    "\n",
    "dfp=pd.DataFrame(list(p))\n",
    "#print(dfp)\n",
    "#print(dfp.sample(n=12))"
   ]
  },
  {
   "cell_type": "code",
   "execution_count": null,
   "metadata": {},
   "outputs": [],
   "source": [
    "p = permutations(nList,r) \n",
    "an_array = np.empty(n)\n",
    "an_array[:] = np.NaN\n",
    "print(an_array)\n",
    "for s in list(p):\n",
    "    u=1\n",
    "    for t in list(s):\n",
    "        print(t)\n",
    "        an_array[t-1]=u\n",
    "        u=u+1\n",
    "        \n",
    "print(an_array)\n",
    "        \n",
    "\n",
    "\n"
   ]
  },
  {
   "cell_type": "code",
   "execution_count": null,
   "metadata": {},
   "outputs": [],
   "source": [
    "p = permutations(nList,r)\n",
    "print(df.columns)\n",
    "# Drop last column of a dataframe\n",
    "df = df.iloc[: , :-1]\n",
    "print(df.columns)\n",
    "an_array = np.empty(n)\n",
    "an_array[:] = np.NaN\n",
    "print(an_array)\n",
    "dfp=pd.DataFrame(columns=df.columns)\n",
    "for s in list(p):\n",
    "    larray =np.array(s)        \n",
    "    print(larray)\n",
    "    z=1\n",
    "    an_array[:] = np.NaN\n",
    "    for y in larray:\n",
    "        an_array[y-1]=z\n",
    "        z=z+1\n",
    "    print(an_array)\n",
    "    dfp.append(an_array)\n",
    "        "
   ]
  },
  {
   "cell_type": "code",
   "execution_count": null,
   "metadata": {},
   "outputs": [],
   "source": [
    "dfpp=dfp.sample(n=1)[:1]\n",
    "print(dfpp)"
   ]
  },
  {
   "cell_type": "code",
   "execution_count": null,
   "metadata": {},
   "outputs": [],
   "source": [
    "dft= pd.DataFrame()\n",
    "dft=df.tail()\n",
    "print(dft.columns)\n",
    "partiesList= list(dft.columns)\n",
    "del partiesList[-1]\n",
    "print(partiesList)\n",
    "\n"
   ]
  },
  {
   "cell_type": "code",
   "execution_count": null,
   "metadata": {},
   "outputs": [],
   "source": [
    "partiesList2=[]\n",
    "for pl in partiesList:\n",
    "    #print(pl[:2] )\n",
    "    partiesList2.append(pl[:2])\n",
    "print(partiesList2)"
   ]
  },
  {
   "cell_type": "code",
   "execution_count": null,
   "metadata": {},
   "outputs": [],
   "source": [
    "#download compass data positioning irish political parties on the political spectrum\n",
    "indata='../data/pc.csv'\n",
    "\n",
    "#set column names\n",
    "col_names = ['party', 'xaxis', 'yaxis']\n",
    "#read in data\n",
    "df = pd.read_csv(indata, na_values=[\"Missing\"], names=col_names)\n",
    "print(\"Irish Parties on Political Compass\")\n",
    "print(df)\n",
    "points=[]\n",
    "points = df.party\n",
    "x=[] #x-axis coordinates\n",
    "y=[] #y-axis coordinates\n",
    "pt=[]\n",
    "\n",
    "#populate two lists with the x and y - coordinates\n",
    "for p in points:\n",
    "    pt.append(df.party)\n",
    "    x.append(df.xaxis)\n",
    "    y.append(df.yaxis)"
   ]
  },
  {
   "cell_type": "code",
   "execution_count": null,
   "metadata": {},
   "outputs": [],
   "source": [
    "print(partiesList2)\n",
    "result = []\n",
    "print(len(dft))\n",
    "dft.drop(dft.columns[len(dft.columns)-1], axis=1, inplace=True)\n",
    "\n",
    "for i in range(len(dft)):\n",
    "    row = list(dft.iloc[i])\n",
    "    #print(np.nanmax(row))\n",
    "    #print(f\"{row}\")\n",
    "    resultRow=[]\n",
    "    for i in range(1,int(np.nanmax(row))+1):\n",
    "        vidx=row.index(float(i))\n",
    "        resultRow.append(partiesList2[vidx])\n",
    "    print(resultRow)\n",
    "    result.append(resultRow)"
   ]
  },
  {
   "cell_type": "code",
   "execution_count": null,
   "metadata": {},
   "outputs": [],
   "source": [
    "print(result)\n",
    "print(df.party)"
   ]
  },
  {
   "cell_type": "code",
   "execution_count": null,
   "metadata": {},
   "outputs": [],
   "source": [
    "#Irregular Vote\n",
    "#dVote= ['NP', 'SP', 'LB', 'SF', 'FF', 'GP', 'FG']\n",
    "#Regular Vote\n",
    "dVote =['FG','FG','FF', 'GP']\n",
    "\n",
    "#populate 3 lists with text, x co-ord and y co-ord\n",
    "dfi = df.party.tolist()\n",
    "print(\"dfi\",dfi)\n",
    "xi=[]\n",
    "yi=[]\n",
    "pp=[]\n",
    "for d in dVote:\n",
    "    inx=dfi.index(d)\n",
    "    pp.append(df.iloc[inx].tolist()[0])\n",
    "    xi.append(df.iloc[inx].tolist()[1])\n",
    "    yi.append(df.iloc[inx].tolist()[2])\n",
    "#print(df.iloc[inx].tolist()[2])\n",
    "for ip in range(len(pp)):\n",
    "    print(f\"{ip+1} - {pp[ip]} ({xi[ip]}, {yi[ip]})\")\n",
    "\n",
    "\n",
    "\n",
    "#Calculate the eculidean distance a vote travels on the political spectrum\n",
    "dist = 0\n",
    "total_dist=0\n",
    "for pl in range(len(pp)):\n",
    "# initializing points in\n",
    "# numpy arrays      \n",
    "    if pl != (len(pp)-1):\n",
    "        point1 = np.array((xi[pl],yi[pl]))\n",
    "        point2 = np.array((xi[pl+1],yi[pl+1]))\n",
    "\n",
    "#calculating Euclidean distance\n",
    "# using linalg.norm()\n",
    "        dist = np.linalg.norm(point1 - point2)\n",
    "        print(f\"Euclidean distance between vote {pl+1} and {pl+2} is {dist}\")\n",
    "        total_dist = total_dist + dist\n",
    "        \n",
    "avg_dist = total_dist/(len(pp)-1)    \n",
    "print(\"Total Distance Travelled on Political Compass as a vote transfers \", total_dist)\n",
    "print(\"Average Distance Travelled on Political Compass of each vote transfers \", avg_dist)\n"
   ]
  },
  {
   "cell_type": "code",
   "execution_count": null,
   "metadata": {},
   "outputs": [],
   "source": []
  }
 ],
 "metadata": {
  "kernelspec": {
   "display_name": "Python 3",
   "language": "python",
   "name": "python3"
  },
  "language_info": {
   "codemirror_mode": {
    "name": "ipython",
    "version": 3
   },
   "file_extension": ".py",
   "mimetype": "text/x-python",
   "name": "python",
   "nbconvert_exporter": "python",
   "pygments_lexer": "ipython3",
   "version": "3.8.5"
  }
 },
 "nbformat": 4,
 "nbformat_minor": 4
}
