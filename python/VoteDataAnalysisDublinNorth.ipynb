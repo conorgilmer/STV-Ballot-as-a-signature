{
 "cells": [
  {
   "cell_type": "markdown",
   "metadata": {},
   "source": [
    "# Vote Data Analysis from 2002 Irish General Election e-voting trial- Dublin North"
   ]
  },
  {
   "cell_type": "code",
   "execution_count": 1,
   "metadata": {
    "scrolled": true
   },
   "outputs": [
    {
     "name": "stdout",
     "output_type": "stream",
     "text": [
      "Print Data Frame (df.head)\n",
      "   Unnamed: 0   FG   SP    SF   FF   NP  FF.1  FG.1  NP.1   LB   GP  NP.2  \\\n",
      "0           1  NaN  NaN   NaN  2.0  NaN   NaN   NaN   NaN  NaN  NaN   NaN   \n",
      "1           2  NaN  NaN   NaN  1.0  NaN   NaN   3.0   NaN  NaN  NaN   NaN   \n",
      "2           3  NaN  NaN   NaN  1.0  NaN   2.0   NaN   NaN  4.0  NaN   NaN   \n",
      "3           4  NaN  NaN   NaN  3.0  NaN   2.0   NaN   4.0  NaN  5.0   NaN   \n",
      "4           5  3.0  NaN   NaN  NaN  NaN   NaN   NaN   NaN  2.0  1.0   NaN   \n",
      "5           6  5.0  2.0   NaN  NaN  4.0   NaN   3.0   NaN  NaN  1.0   NaN   \n",
      "6           7  NaN  NaN   NaN  NaN  NaN   1.0   3.0   NaN  NaN  NaN   NaN   \n",
      "7           8  2.0  7.0  12.0  1.0  6.0   8.0   3.0  11.0  5.0  4.0  10.0   \n",
      "8           9  4.0  NaN   NaN  5.0  NaN   NaN   2.0   NaN  3.0  1.0   NaN   \n",
      "9          10  4.0  NaN   NaN  NaN  NaN   5.0   2.0   6.0  NaN  1.0   NaN   \n",
      "\n",
      "   FF.2  \n",
      "0   1.0  \n",
      "1   2.0  \n",
      "2   3.0  \n",
      "3   1.0  \n",
      "4   NaN  \n",
      "5   NaN  \n",
      "6   2.0  \n",
      "7   9.0  \n",
      "8   NaN  \n",
      "9   3.0  \n",
      "Print Column names\n",
      "Index(['Unnamed: 0', 'FG', 'SP', 'SF', 'FF', 'NP', 'FF.1', 'FG.1', 'NP.1',\n",
      "       'LB', 'GP', 'NP.2', 'FF.2'],\n",
      "      dtype='object')\n"
     ]
    }
   ],
   "source": [
    "#read vote data from csv\n",
    "import matplotlib.pyplot as plt\n",
    "import numpy as np\n",
    "import pandas as pd\n",
    "import math \n",
    "\n",
    "%matplotlib inline\n",
    "\n",
    "#input file\n",
    "constituency=\"DublinNorth2002\"\n",
    "#constituency=\"DublinWest2002\"\n",
    "#constituency=\"Meath2002\"\n",
    "my_csv='../data/'+constituency+'.csv'\n",
    "\n",
    "#read in data (setting 1st row as header)\n",
    "df = pd.read_csv(my_csv, na_values=[\"Missing\"], header=[0])\n",
    "\n",
    "#set column names as first line\n",
    "\n",
    "#df.head()\n",
    "print(\"Print Data Frame (df.head)\")\n",
    "print(df.head(10))\n",
    "print(\"Print Column names\")\n",
    "print(df.columns)\n",
    "\n",
    "#drop the numbers column (#df=df.drop(['No.'], 1))\n",
    "df = df.drop(df.columns[[0]], axis=1)  # df.columns is zero-based pd.Index\n",
    "#reset index to start a 1 and not 0\n",
    "df.index = df.index + 1"
   ]
  },
  {
   "cell_type": "markdown",
   "metadata": {},
   "source": [
    "# Election Dataset Describe and Info"
   ]
  },
  {
   "cell_type": "code",
   "execution_count": 2,
   "metadata": {},
   "outputs": [
    {
     "name": "stdout",
     "output_type": "stream",
     "text": [
      "<class 'pandas.core.frame.DataFrame'>\n",
      "RangeIndex: 43942 entries, 1 to 43942\n",
      "Data columns (total 12 columns):\n",
      " #   Column  Non-Null Count  Dtype  \n",
      "---  ------  --------------  -----  \n",
      " 0   FG      15364 non-null  float64\n",
      " 1   SP      21537 non-null  float64\n",
      " 2   SF      10514 non-null  float64\n",
      " 3   FF      23308 non-null  float64\n",
      " 4   NP      12515 non-null  float64\n",
      " 5   FF.1    22811 non-null  float64\n",
      " 6   FG.1    19204 non-null  float64\n",
      " 7   NP.1    9004 non-null   float64\n",
      " 8   LB      25609 non-null  float64\n",
      " 9   GP      28921 non-null  float64\n",
      " 10  NP.2    7483 non-null   float64\n",
      " 11  FF.2    22663 non-null  float64\n",
      "dtypes: float64(12)\n",
      "memory usage: 4.0 MB\n"
     ]
    }
   ],
   "source": [
    "df.info()"
   ]
  },
  {
   "cell_type": "code",
   "execution_count": 3,
   "metadata": {},
   "outputs": [
    {
     "data": {
      "text/html": [
       "<div>\n",
       "<style scoped>\n",
       "    .dataframe tbody tr th:only-of-type {\n",
       "        vertical-align: middle;\n",
       "    }\n",
       "\n",
       "    .dataframe tbody tr th {\n",
       "        vertical-align: top;\n",
       "    }\n",
       "\n",
       "    .dataframe thead th {\n",
       "        text-align: right;\n",
       "    }\n",
       "</style>\n",
       "<table border=\"1\" class=\"dataframe\">\n",
       "  <thead>\n",
       "    <tr style=\"text-align: right;\">\n",
       "      <th></th>\n",
       "      <th>FG</th>\n",
       "      <th>SP</th>\n",
       "      <th>SF</th>\n",
       "      <th>FF</th>\n",
       "      <th>NP</th>\n",
       "      <th>FF.1</th>\n",
       "      <th>FG.1</th>\n",
       "      <th>NP.1</th>\n",
       "      <th>LB</th>\n",
       "      <th>GP</th>\n",
       "      <th>NP.2</th>\n",
       "      <th>FF.2</th>\n",
       "    </tr>\n",
       "  </thead>\n",
       "  <tbody>\n",
       "    <tr>\n",
       "      <th>count</th>\n",
       "      <td>15364.000000</td>\n",
       "      <td>21537.000000</td>\n",
       "      <td>10514.000000</td>\n",
       "      <td>23308.000000</td>\n",
       "      <td>12515.000000</td>\n",
       "      <td>22811.000000</td>\n",
       "      <td>19204.000000</td>\n",
       "      <td>9004.000000</td>\n",
       "      <td>25609.000000</td>\n",
       "      <td>28921.000000</td>\n",
       "      <td>7483.000000</td>\n",
       "      <td>22663.000000</td>\n",
       "    </tr>\n",
       "    <tr>\n",
       "      <th>mean</th>\n",
       "      <td>4.623015</td>\n",
       "      <td>3.401959</td>\n",
       "      <td>5.396709</td>\n",
       "      <td>3.220568</td>\n",
       "      <td>5.180823</td>\n",
       "      <td>3.217570</td>\n",
       "      <td>3.691835</td>\n",
       "      <td>6.415926</td>\n",
       "      <td>3.057558</td>\n",
       "      <td>2.896027</td>\n",
       "      <td>7.278364</td>\n",
       "      <td>3.403168</td>\n",
       "    </tr>\n",
       "    <tr>\n",
       "      <th>std</th>\n",
       "      <td>2.670064</td>\n",
       "      <td>2.433011</td>\n",
       "      <td>3.560945</td>\n",
       "      <td>2.373021</td>\n",
       "      <td>2.879080</td>\n",
       "      <td>2.441792</td>\n",
       "      <td>2.585539</td>\n",
       "      <td>2.777813</td>\n",
       "      <td>2.027258</td>\n",
       "      <td>1.812687</td>\n",
       "      <td>2.914517</td>\n",
       "      <td>2.532615</td>\n",
       "    </tr>\n",
       "    <tr>\n",
       "      <th>min</th>\n",
       "      <td>1.000000</td>\n",
       "      <td>1.000000</td>\n",
       "      <td>1.000000</td>\n",
       "      <td>1.000000</td>\n",
       "      <td>1.000000</td>\n",
       "      <td>1.000000</td>\n",
       "      <td>1.000000</td>\n",
       "      <td>1.000000</td>\n",
       "      <td>1.000000</td>\n",
       "      <td>1.000000</td>\n",
       "      <td>1.000000</td>\n",
       "      <td>1.000000</td>\n",
       "    </tr>\n",
       "    <tr>\n",
       "      <th>25%</th>\n",
       "      <td>2.000000</td>\n",
       "      <td>1.000000</td>\n",
       "      <td>2.000000</td>\n",
       "      <td>1.000000</td>\n",
       "      <td>3.000000</td>\n",
       "      <td>2.000000</td>\n",
       "      <td>2.000000</td>\n",
       "      <td>4.000000</td>\n",
       "      <td>2.000000</td>\n",
       "      <td>1.000000</td>\n",
       "      <td>5.000000</td>\n",
       "      <td>2.000000</td>\n",
       "    </tr>\n",
       "    <tr>\n",
       "      <th>50%</th>\n",
       "      <td>4.000000</td>\n",
       "      <td>3.000000</td>\n",
       "      <td>4.000000</td>\n",
       "      <td>3.000000</td>\n",
       "      <td>5.000000</td>\n",
       "      <td>2.000000</td>\n",
       "      <td>3.000000</td>\n",
       "      <td>6.000000</td>\n",
       "      <td>3.000000</td>\n",
       "      <td>3.000000</td>\n",
       "      <td>7.000000</td>\n",
       "      <td>3.000000</td>\n",
       "    </tr>\n",
       "    <tr>\n",
       "      <th>75%</th>\n",
       "      <td>6.000000</td>\n",
       "      <td>5.000000</td>\n",
       "      <td>8.000000</td>\n",
       "      <td>4.000000</td>\n",
       "      <td>7.000000</td>\n",
       "      <td>4.000000</td>\n",
       "      <td>5.000000</td>\n",
       "      <td>9.000000</td>\n",
       "      <td>4.000000</td>\n",
       "      <td>4.000000</td>\n",
       "      <td>10.000000</td>\n",
       "      <td>4.000000</td>\n",
       "    </tr>\n",
       "    <tr>\n",
       "      <th>max</th>\n",
       "      <td>12.000000</td>\n",
       "      <td>12.000000</td>\n",
       "      <td>12.000000</td>\n",
       "      <td>12.000000</td>\n",
       "      <td>12.000000</td>\n",
       "      <td>12.000000</td>\n",
       "      <td>12.000000</td>\n",
       "      <td>12.000000</td>\n",
       "      <td>12.000000</td>\n",
       "      <td>12.000000</td>\n",
       "      <td>12.000000</td>\n",
       "      <td>12.000000</td>\n",
       "    </tr>\n",
       "  </tbody>\n",
       "</table>\n",
       "</div>"
      ],
      "text/plain": [
       "                 FG            SP            SF            FF            NP  \\\n",
       "count  15364.000000  21537.000000  10514.000000  23308.000000  12515.000000   \n",
       "mean       4.623015      3.401959      5.396709      3.220568      5.180823   \n",
       "std        2.670064      2.433011      3.560945      2.373021      2.879080   \n",
       "min        1.000000      1.000000      1.000000      1.000000      1.000000   \n",
       "25%        2.000000      1.000000      2.000000      1.000000      3.000000   \n",
       "50%        4.000000      3.000000      4.000000      3.000000      5.000000   \n",
       "75%        6.000000      5.000000      8.000000      4.000000      7.000000   \n",
       "max       12.000000     12.000000     12.000000     12.000000     12.000000   \n",
       "\n",
       "               FF.1          FG.1         NP.1            LB            GP  \\\n",
       "count  22811.000000  19204.000000  9004.000000  25609.000000  28921.000000   \n",
       "mean       3.217570      3.691835     6.415926      3.057558      2.896027   \n",
       "std        2.441792      2.585539     2.777813      2.027258      1.812687   \n",
       "min        1.000000      1.000000     1.000000      1.000000      1.000000   \n",
       "25%        2.000000      2.000000     4.000000      2.000000      1.000000   \n",
       "50%        2.000000      3.000000     6.000000      3.000000      3.000000   \n",
       "75%        4.000000      5.000000     9.000000      4.000000      4.000000   \n",
       "max       12.000000     12.000000    12.000000     12.000000     12.000000   \n",
       "\n",
       "              NP.2          FF.2  \n",
       "count  7483.000000  22663.000000  \n",
       "mean      7.278364      3.403168  \n",
       "std       2.914517      2.532615  \n",
       "min       1.000000      1.000000  \n",
       "25%       5.000000      2.000000  \n",
       "50%       7.000000      3.000000  \n",
       "75%      10.000000      4.000000  \n",
       "max      12.000000     12.000000  "
      ]
     },
     "execution_count": 3,
     "metadata": {},
     "output_type": "execute_result"
    }
   ],
   "source": [
    "df.describe()"
   ]
  },
  {
   "cell_type": "markdown",
   "metadata": {},
   "source": [
    "# Statistics on election - candidates and votes"
   ]
  },
  {
   "cell_type": "code",
   "execution_count": 4,
   "metadata": {
    "scrolled": true
   },
   "outputs": [
    {
     "name": "stdout",
     "output_type": "stream",
     "text": [
      "Statistics on Dataframe\n",
      "No. of Candidates =  12\n",
      "No. of Votes =  43942\n",
      "No. of all possible Combinations (candidates)! =  479001600\n"
     ]
    }
   ],
   "source": [
    "#Stats No. of Candidates(columns) and Votes(rows), all combinations of candidates = candidates!\n",
    "print(\"Statistics on Dataframe\")\n",
    "candidates = len(df.columns)\n",
    "print(\"No. of Candidates = \", candidates)\n",
    "votes = len(df.index)\n",
    "print(\"No. of Votes = \", votes)\n",
    "print(\"No. of all possible Combinations (candidates)! = \", math.factorial(candidates))"
   ]
  },
  {
   "cell_type": "markdown",
   "metadata": {},
   "source": [
    "## Additional Statistics on Actual Vote Data"
   ]
  },
  {
   "cell_type": "code",
   "execution_count": 5,
   "metadata": {},
   "outputs": [
    {
     "name": "stdout",
     "output_type": "stream",
     "text": [
      "Average(Mean) value = 4.982317600473351\n",
      "Mode(most often number of votes cast = 3.0\n",
      "Middle value of votes cast = 4.0\n"
     ]
    }
   ],
   "source": [
    "import statistics as stats\n",
    "df.head()\n",
    "#print(df.describe())\n",
    "df.max()\n",
    "# find the maximum values of each row (the highest vote preference cast)\n",
    "maxValues = df.max(axis = 1)\n",
    "#print(maxValues)\n",
    "#mean - average \n",
    "print(f\"Average(Mean) value = {stats.mean(maxValues)}\")\n",
    "#mode - most frequent occuring value\n",
    "print(f\"Mode(most often number of votes cast = {stats.mode(maxValues)}\")\n",
    "#median - middle value\n",
    "print(f\"Middle value of votes cast = {stats.median(maxValues)}\")\n"
   ]
  },
  {
   "cell_type": "markdown",
   "metadata": {},
   "source": [
    "## Calculate maximum values (number of preferences) for each vote(row)"
   ]
  },
  {
   "cell_type": "code",
   "execution_count": 6,
   "metadata": {},
   "outputs": [],
   "source": [
    "#add a column of the maximum count of the rows(highest preference vote cast)\n",
    "df['maxValues'] = df.max(axis = 1)"
   ]
  },
  {
   "cell_type": "code",
   "execution_count": 7,
   "metadata": {
    "scrolled": true
   },
   "outputs": [
    {
     "name": "stdout",
     "output_type": "stream",
     "text": [
      "[ 1688  2796 12589  7861  6163  3713  2184  1327   686   676   597  3662]\n",
      "Float64Index([1.0, 2.0, 3.0, 4.0, 5.0, 6.0, 7.0, 8.0, 9.0, 10.0, 11.0, 12.0], dtype='float64')\n"
     ]
    }
   ],
   "source": [
    "mval=(df['maxValues'].value_counts())\n",
    "mval.sort_index(ascending=True, inplace=True)\n",
    "print(mval.values)\n",
    "print(mval.index)"
   ]
  },
  {
   "cell_type": "markdown",
   "metadata": {},
   "source": [
    "# Plot Histogram of the number of transfers a voter casts"
   ]
  },
  {
   "cell_type": "code",
   "execution_count": 8,
   "metadata": {
    "scrolled": true
   },
   "outputs": [
    {
     "name": "stdout",
     "output_type": "stream",
     "text": [
      "Float64Index([1.0, 2.0, 3.0, 4.0, 5.0, 6.0, 7.0, 8.0, 9.0, 10.0, 11.0, 12.0], dtype='float64')\n",
      "[ 1688  2796 12589  7861  6163  3713  2184  1327   686   676   597  3662]\n",
      "[ 0  1  2  3  4  5  6  7  8  9 10 11]\n"
     ]
    },
    {
     "data": {
      "image/png": "[encoded data removed]",
      "text/plain": [
       "<Figure size 432x288 with 1 Axes>"
      ]
     },
     "metadata": {
      "needs_background": "light"
     },
     "output_type": "display_data"
    }
   ],
   "source": [
    "from collections import Counter\n",
    "import numpy as np\n",
    "import matplotlib.pyplot as plt\n",
    "\n",
    "#counts = Counter(word_list)\n",
    "#labels, values = zip(*counts.items())\n",
    "# sort your values in descending order\n",
    "#indSort = np.argsort(values)[::-1]\n",
    "\n",
    "# rearrange your data\n",
    "labels=mval.index\n",
    "values=mval.values\n",
    "indexes = np.arange(len(labels))\n",
    "print(labels)\n",
    "print(values)\n",
    "print(indexes)\n",
    "\n",
    "bar_width = 0.35\n",
    "\n",
    "# Add title and axis names\n",
    "plt.title(constituency+' - Preference votes cast')\n",
    "plt.xlabel('Preferences')\n",
    "plt.ylabel('votes')\n",
    "\n",
    "plt.bar(indexes, values)\n",
    "\n",
    "# add labels\n",
    "plt.xticks(indexes + bar_width, labels)\n",
    "\n",
    "\n",
    "# Save the histogram\n",
    "plt.savefig('../images/'+constituency+'hist.png')\n",
    "\n",
    "#show histogram\n",
    "plt.show()"
   ]
  },
  {
   "cell_type": "markdown",
   "metadata": {},
   "source": [
    "###Pie Chart of how many preferences a voter uses"
   ]
  },
  {
   "cell_type": "code",
   "execution_count": 9,
   "metadata": {},
   "outputs": [
    {
     "data": {
      "image/png": "[encoded data removed]",
      "text/plain": [
       "<Figure size 720x432 with 1 Axes>"
      ]
     },
     "metadata": {
      "image/png": {
       "height": 340,
       "width": 340
      }
     },
     "output_type": "display_data"
    }
   ],
   "source": [
    "import matplotlib.pyplot as plt\n",
    "import numpy as np\n",
    "# Set the figure size - handy for larger output\n",
    "#from matplotlib import pyplot as plt\n",
    "plt.rcParams[\"figure.figsize\"] = [10, 6]\n",
    "# Set up with a higher resolution screen (useful on Mac)\n",
    "%config InlineBackend.figure_format = 'retina'\n",
    "\n",
    "pieLabels=[]\n",
    "for lab in indexes:\n",
    "    pieLabels.append(lab+1)\n",
    "\n",
    "plt.pie(values, labels = pieLabels)\n",
    "\n",
    "# Save the Pie\n",
    "plt.savefig('../images/'+constituency+'_pref_cast_pie.png')\n",
    "\n",
    "plt.show()"
   ]
  },
  {
   "cell_type": "code",
   "execution_count": 10,
   "metadata": {
    "scrolled": true
   },
   "outputs": [
    {
     "name": "stdout",
     "output_type": "stream",
     "text": [
      "[12, 132, 1320, 11880, 95040, 665280, 3991680, 19958400, 79833600, 239500800, 479001600, 479001600]\n"
     ]
    }
   ],
   "source": [
    "nPrList =[]\n",
    "for i in range(1,candidates+1):\n",
    "    nPrList.append(int(math.factorial(candidates)/(math.factorial(candidates-i))))\n",
    "print(nPrList)"
   ]
  },
  {
   "cell_type": "markdown",
   "metadata": {},
   "source": [
    "## Print number of preferences cast, and calculate percentage"
   ]
  },
  {
   "cell_type": "code",
   "execution_count": 11,
   "metadata": {},
   "outputs": [
    {
     "data": {
      "text/html": [
       "<div>\n",
       "<style scoped>\n",
       "    .dataframe tbody tr th:only-of-type {\n",
       "        vertical-align: middle;\n",
       "    }\n",
       "\n",
       "    .dataframe tbody tr th {\n",
       "        vertical-align: top;\n",
       "    }\n",
       "\n",
       "    .dataframe thead th {\n",
       "        text-align: right;\n",
       "    }\n",
       "</style>\n",
       "<table border=\"1\" class=\"dataframe\">\n",
       "  <thead>\n",
       "    <tr style=\"text-align: right;\">\n",
       "      <th></th>\n",
       "      <th>Pref</th>\n",
       "      <th>Votes</th>\n",
       "      <th>Percentage</th>\n",
       "      <th>nPr</th>\n",
       "    </tr>\n",
       "  </thead>\n",
       "  <tbody>\n",
       "    <tr>\n",
       "      <th>0</th>\n",
       "      <td>1.0</td>\n",
       "      <td>1688</td>\n",
       "      <td>3.8</td>\n",
       "      <td>12</td>\n",
       "    </tr>\n",
       "    <tr>\n",
       "      <th>1</th>\n",
       "      <td>2.0</td>\n",
       "      <td>2796</td>\n",
       "      <td>6.4</td>\n",
       "      <td>132</td>\n",
       "    </tr>\n",
       "    <tr>\n",
       "      <th>2</th>\n",
       "      <td>3.0</td>\n",
       "      <td>12589</td>\n",
       "      <td>28.6</td>\n",
       "      <td>1320</td>\n",
       "    </tr>\n",
       "    <tr>\n",
       "      <th>3</th>\n",
       "      <td>4.0</td>\n",
       "      <td>7861</td>\n",
       "      <td>17.9</td>\n",
       "      <td>11880</td>\n",
       "    </tr>\n",
       "    <tr>\n",
       "      <th>4</th>\n",
       "      <td>5.0</td>\n",
       "      <td>6163</td>\n",
       "      <td>14.0</td>\n",
       "      <td>95040</td>\n",
       "    </tr>\n",
       "    <tr>\n",
       "      <th>5</th>\n",
       "      <td>6.0</td>\n",
       "      <td>3713</td>\n",
       "      <td>8.4</td>\n",
       "      <td>665280</td>\n",
       "    </tr>\n",
       "    <tr>\n",
       "      <th>6</th>\n",
       "      <td>7.0</td>\n",
       "      <td>2184</td>\n",
       "      <td>5.0</td>\n",
       "      <td>3991680</td>\n",
       "    </tr>\n",
       "    <tr>\n",
       "      <th>7</th>\n",
       "      <td>8.0</td>\n",
       "      <td>1327</td>\n",
       "      <td>3.0</td>\n",
       "      <td>19958400</td>\n",
       "    </tr>\n",
       "    <tr>\n",
       "      <th>8</th>\n",
       "      <td>9.0</td>\n",
       "      <td>686</td>\n",
       "      <td>1.6</td>\n",
       "      <td>79833600</td>\n",
       "    </tr>\n",
       "    <tr>\n",
       "      <th>9</th>\n",
       "      <td>10.0</td>\n",
       "      <td>676</td>\n",
       "      <td>1.5</td>\n",
       "      <td>239500800</td>\n",
       "    </tr>\n",
       "    <tr>\n",
       "      <th>10</th>\n",
       "      <td>11.0</td>\n",
       "      <td>597</td>\n",
       "      <td>1.4</td>\n",
       "      <td>479001600</td>\n",
       "    </tr>\n",
       "    <tr>\n",
       "      <th>11</th>\n",
       "      <td>12.0</td>\n",
       "      <td>3662</td>\n",
       "      <td>8.3</td>\n",
       "      <td>479001600</td>\n",
       "    </tr>\n",
       "  </tbody>\n",
       "</table>\n",
       "</div>"
      ],
      "text/plain": [
       "    Pref  Votes  Percentage        nPr\n",
       "0    1.0   1688         3.8         12\n",
       "1    2.0   2796         6.4        132\n",
       "2    3.0  12589        28.6       1320\n",
       "3    4.0   7861        17.9      11880\n",
       "4    5.0   6163        14.0      95040\n",
       "5    6.0   3713         8.4     665280\n",
       "6    7.0   2184         5.0    3991680\n",
       "7    8.0   1327         3.0   19958400\n",
       "8    9.0    686         1.6   79833600\n",
       "9   10.0    676         1.5  239500800\n",
       "10  11.0    597         1.4  479001600\n",
       "11  12.0   3662         8.3  479001600"
      ]
     },
     "metadata": {},
     "output_type": "display_data"
    }
   ],
   "source": [
    "# creating the dataframe from dictionary\n",
    "d={\"Pref\": labels, \"Votes\": values}    \n",
    "dfpref = pd.DataFrame(d)\n",
    "\n",
    "#calculate percentage of preferences cast and add to dataframe\n",
    "votz = dfpref.Votes.sum()  \n",
    "dfpref['Percentage'] = round(((dfpref['Votes']/votz)*100), 1)\n",
    "\n",
    "#calculate possible nPr = n!/(n-r)! values for each preference vote\n",
    "# candidates = n. No. of pref = r\n",
    "nPrList =[]\n",
    "for i in range(1,candidates+1):\n",
    "    nPrList.append(int(math.factorial(candidates)/(math.factorial(candidates-i))))\n",
    "#add nPr to dataframe    \n",
    "dfpref['nPr'] = nPrList\n",
    "\n",
    "# displaying the dataframe\n",
    "display(dfpref)"
   ]
  },
  {
   "cell_type": "markdown",
   "metadata": {},
   "source": [
    "# Calculate number of duplicated vote sequences"
   ]
  },
  {
   "cell_type": "code",
   "execution_count": 12,
   "metadata": {},
   "outputs": [
    {
     "name": "stdout",
     "output_type": "stream",
     "text": [
      "19299\n",
      "True     24643\n",
      "False    19299\n",
      "dtype: int64\n"
     ]
    }
   ],
   "source": [
    "print((~df.duplicated()).sum())\n",
    "print(df.duplicated(keep='last').value_counts())"
   ]
  },
  {
   "cell_type": "code",
   "execution_count": 13,
   "metadata": {},
   "outputs": [],
   "source": [
    "#drop all dublicate rows keeping last one\n",
    "df.drop_duplicates(keep='last', inplace=True, subset=df.columns.difference(['maxValues']))"
   ]
  },
  {
   "cell_type": "code",
   "execution_count": 14,
   "metadata": {
    "scrolled": true
   },
   "outputs": [
    {
     "name": "stdout",
     "output_type": "stream",
     "text": [
      "Number of votes 43942\n",
      "Number of unique vote patterns (after removing duplicates) 19299\n"
     ]
    }
   ],
   "source": [
    "#print the number of votes, and the number of unique votes\n",
    "print(f\"Number of votes {votes}\")\n",
    "print(f\"Number of unique vote patterns (after removing duplicates) {len(df)}\")"
   ]
  },
  {
   "cell_type": "code",
   "execution_count": 15,
   "metadata": {},
   "outputs": [],
   "source": [
    "# after removal of duplicates\n",
    "#add a column of the maximum count of the rows(highest preference vote cast)\n",
    "df['maxValues'] = df.max(axis = 1)\n",
    "\n",
    "mval=(df['maxValues'].value_counts())\n",
    "mval.sort_index(ascending=True, inplace=True)"
   ]
  },
  {
   "cell_type": "markdown",
   "metadata": {},
   "source": [
    "### calculate unique vote combinations for each preference cast "
   ]
  },
  {
   "cell_type": "code",
   "execution_count": 16,
   "metadata": {},
   "outputs": [
    {
     "data": {
      "text/html": [
       "<div>\n",
       "<style scoped>\n",
       "    .dataframe tbody tr th:only-of-type {\n",
       "        vertical-align: middle;\n",
       "    }\n",
       "\n",
       "    .dataframe tbody tr th {\n",
       "        vertical-align: top;\n",
       "    }\n",
       "\n",
       "    .dataframe thead th {\n",
       "        text-align: right;\n",
       "    }\n",
       "</style>\n",
       "<table border=\"1\" class=\"dataframe\">\n",
       "  <thead>\n",
       "    <tr style=\"text-align: right;\">\n",
       "      <th></th>\n",
       "      <th>Pref</th>\n",
       "      <th>Votes</th>\n",
       "      <th>Percentage</th>\n",
       "      <th>nPr</th>\n",
       "      <th>Unique Votes</th>\n",
       "      <th>Percentage Used</th>\n",
       "    </tr>\n",
       "  </thead>\n",
       "  <tbody>\n",
       "    <tr>\n",
       "      <th>0</th>\n",
       "      <td>1.0</td>\n",
       "      <td>1688</td>\n",
       "      <td>3.8</td>\n",
       "      <td>12</td>\n",
       "      <td>12</td>\n",
       "      <td>100.00000</td>\n",
       "    </tr>\n",
       "    <tr>\n",
       "      <th>1</th>\n",
       "      <td>2.0</td>\n",
       "      <td>2796</td>\n",
       "      <td>6.4</td>\n",
       "      <td>132</td>\n",
       "      <td>125</td>\n",
       "      <td>94.69697</td>\n",
       "    </tr>\n",
       "    <tr>\n",
       "      <th>2</th>\n",
       "      <td>3.0</td>\n",
       "      <td>12589</td>\n",
       "      <td>28.6</td>\n",
       "      <td>1320</td>\n",
       "      <td>853</td>\n",
       "      <td>64.62121</td>\n",
       "    </tr>\n",
       "    <tr>\n",
       "      <th>3</th>\n",
       "      <td>4.0</td>\n",
       "      <td>7861</td>\n",
       "      <td>17.9</td>\n",
       "      <td>11880</td>\n",
       "      <td>2324</td>\n",
       "      <td>19.56229</td>\n",
       "    </tr>\n",
       "    <tr>\n",
       "      <th>4</th>\n",
       "      <td>5.0</td>\n",
       "      <td>6163</td>\n",
       "      <td>14.0</td>\n",
       "      <td>95040</td>\n",
       "      <td>3752</td>\n",
       "      <td>3.94781</td>\n",
       "    </tr>\n",
       "    <tr>\n",
       "      <th>5</th>\n",
       "      <td>6.0</td>\n",
       "      <td>3713</td>\n",
       "      <td>8.4</td>\n",
       "      <td>665280</td>\n",
       "      <td>3226</td>\n",
       "      <td>0.48491</td>\n",
       "    </tr>\n",
       "    <tr>\n",
       "      <th>6</th>\n",
       "      <td>7.0</td>\n",
       "      <td>2184</td>\n",
       "      <td>5.0</td>\n",
       "      <td>3991680</td>\n",
       "      <td>2090</td>\n",
       "      <td>0.05236</td>\n",
       "    </tr>\n",
       "    <tr>\n",
       "      <th>7</th>\n",
       "      <td>8.0</td>\n",
       "      <td>1327</td>\n",
       "      <td>3.0</td>\n",
       "      <td>19958400</td>\n",
       "      <td>1304</td>\n",
       "      <td>0.00653</td>\n",
       "    </tr>\n",
       "    <tr>\n",
       "      <th>8</th>\n",
       "      <td>9.0</td>\n",
       "      <td>686</td>\n",
       "      <td>1.6</td>\n",
       "      <td>79833600</td>\n",
       "      <td>685</td>\n",
       "      <td>0.00086</td>\n",
       "    </tr>\n",
       "    <tr>\n",
       "      <th>9</th>\n",
       "      <td>10.0</td>\n",
       "      <td>676</td>\n",
       "      <td>1.5</td>\n",
       "      <td>239500800</td>\n",
       "      <td>676</td>\n",
       "      <td>0.00028</td>\n",
       "    </tr>\n",
       "    <tr>\n",
       "      <th>10</th>\n",
       "      <td>11.0</td>\n",
       "      <td>597</td>\n",
       "      <td>1.4</td>\n",
       "      <td>479001600</td>\n",
       "      <td>597</td>\n",
       "      <td>0.00012</td>\n",
       "    </tr>\n",
       "    <tr>\n",
       "      <th>11</th>\n",
       "      <td>12.0</td>\n",
       "      <td>3662</td>\n",
       "      <td>8.3</td>\n",
       "      <td>479001600</td>\n",
       "      <td>3655</td>\n",
       "      <td>0.00076</td>\n",
       "    </tr>\n",
       "  </tbody>\n",
       "</table>\n",
       "</div>"
      ],
      "text/plain": [
       "    Pref  Votes  Percentage        nPr  Unique Votes  Percentage Used\n",
       "0    1.0   1688         3.8         12            12        100.00000\n",
       "1    2.0   2796         6.4        132           125         94.69697\n",
       "2    3.0  12589        28.6       1320           853         64.62121\n",
       "3    4.0   7861        17.9      11880          2324         19.56229\n",
       "4    5.0   6163        14.0      95040          3752          3.94781\n",
       "5    6.0   3713         8.4     665280          3226          0.48491\n",
       "6    7.0   2184         5.0    3991680          2090          0.05236\n",
       "7    8.0   1327         3.0   19958400          1304          0.00653\n",
       "8    9.0    686         1.6   79833600           685          0.00086\n",
       "9   10.0    676         1.5  239500800           676          0.00028\n",
       "10  11.0    597         1.4  479001600           597          0.00012\n",
       "11  12.0   3662         8.3  479001600          3655          0.00076"
      ]
     },
     "metadata": {},
     "output_type": "display_data"
    }
   ],
   "source": [
    "#calculate unique vote combinations for each preference cast \n",
    "dfpref['Unique Votes'] = mval.values\n",
    "\n",
    "dfpref['Percentage Used'] = round(((dfpref['Unique Votes']/dfpref['nPr'])*100), 5)\n",
    "\n",
    "# displaying the dataframe\n",
    "display(dfpref)"
   ]
  },
  {
   "cell_type": "code",
   "execution_count": 17,
   "metadata": {},
   "outputs": [
    {
     "name": "stdout",
     "output_type": "stream",
     "text": [
      "19299\n"
     ]
    }
   ],
   "source": [
    "#just checking \n",
    "print(sum(mval.values))\n",
    "nPr=dfpref['nPr']"
   ]
  },
  {
   "cell_type": "markdown",
   "metadata": {},
   "source": [
    "## Import in Political Compass data for Irish Parties"
   ]
  },
  {
   "cell_type": "code",
   "execution_count": 18,
   "metadata": {},
   "outputs": [
    {
     "name": "stdout",
     "output_type": "stream",
     "text": [
      "Irish Parties on Political Compass\n",
      "  party  xaxis  yaxis\n",
      "0    SP   -7.0   -2.5\n",
      "1    SF   -4.5    1.0\n",
      "2    GP   -1.0   -2.0\n",
      "3    NP    0.0    0.0\n",
      "4    LB    1.5   -0.5\n",
      "5    FF    2.5    2.4\n",
      "6    FG    3.5    2.5\n",
      "7    PD    4.0    3.0\n"
     ]
    }
   ],
   "source": [
    "#download compass data positioning irish political parties on the political spectrum\n",
    "pcData='../data/pc.csv'\n",
    "\n",
    "#set column names\n",
    "col_names = ['party', 'xaxis', 'yaxis']\n",
    "#read in political compass data\n",
    "dfPC = pd.read_csv(pcData, na_values=[\"Missing\"], names=col_names)\n",
    "print(\"Irish Parties on Political Compass\")\n",
    "print(dfPC)\n",
    "points=[]\n",
    "points = dfPC.party\n",
    "x=[] #x-axis coordinates\n",
    "y=[] #y-axis coordinates\n",
    "pt=[]\n",
    "\n",
    "#populate two lists with the x and y - coordinates\n",
    "for p in points:\n",
    "    pt.append(dfPC.party)\n",
    "    x.append(dfPC.xaxis)\n",
    "    y.append(dfPC.yaxis)"
   ]
  },
  {
   "cell_type": "code",
   "execution_count": 19,
   "metadata": {},
   "outputs": [
    {
     "name": "stdout",
     "output_type": "stream",
     "text": [
      "['FG', 'SP', 'SF', 'FF', 'NP', 'FF.1', 'FG.1', 'NP.1', 'LB', 'GP', 'NP.2', 'FF.2']\n",
      "['FG', 'SP', 'SF', 'FF', 'NP', 'FF', 'FG', 'NP', 'LB', 'GP', 'NP', 'FF']\n"
     ]
    }
   ],
   "source": [
    "# get the party initials (1 characters) from the column names i.e. remove .1 .2 L Retc\n",
    "#print(df.columns)\n",
    "partiesList= list(df.columns)\n",
    "del partiesList[-1]\n",
    "print(partiesList)\n",
    "partiesList2=[]\n",
    "for pl in partiesList:\n",
    "    #print(pl[:2] )\n",
    "    partiesList2.append(pl[:2])\n",
    "print(partiesList2)"
   ]
  },
  {
   "cell_type": "code",
   "execution_count": 20,
   "metadata": {},
   "outputs": [],
   "source": [
    "def getEuclidVoteDetails(voteRow, dfPC):\n",
    "    #populate 3 lists with text, x co-ord and y co-ord\n",
    "    partyPCList = dfPC.party.tolist()\n",
    "   # print(\"partyList\",partyPCList)\n",
    "    xi=[]\n",
    "    yi=[]\n",
    "    pp=[]\n",
    "    for d in voteRow:\n",
    "        inx=partyPCList.index(d)\n",
    "        pp.append(dfPC.iloc[inx].tolist()[0])\n",
    "        xi.append(dfPC.iloc[inx].tolist()[1])\n",
    "        yi.append(dfPC.iloc[inx].tolist()[2])\n",
    "\n",
    "   # for ip in range(len(pp)):\n",
    "   #     print(f\"{ip+1} - {pp[ip]} ({xi[ip]}, {yi[ip]})\")\n",
    "\n",
    "    #Calculate the eculidean distance a vote travels on the political spectrum\n",
    "    dist = 0\n",
    "    total_dist=0\n",
    "    big_dist=0\n",
    "    for pl in range(len(pp)):\n",
    "    # initializing points in # numpy arrays      \n",
    "        if pl != (len(pp)-1):\n",
    "            point1 = np.array((xi[pl],yi[pl]))\n",
    "            point2 = np.array((xi[pl+1],yi[pl+1]))\n",
    "\n",
    "    #calculating Euclidean distance # using linalg.norm()\n",
    "            dist = np.linalg.norm(point1 - point2)\n",
    "            #print(f\"Euclidean distance between vote {pl+1} and {pl+2} is {dist}\")\n",
    "            total_dist = total_dist + dist\n",
    "            if dist > big_dist:\n",
    "                big_dist=dist\n",
    " #   print(total_dist, len(pp))\n",
    "    if len(pp) > 1:\n",
    "        avg_dist = total_dist/(len(pp)-1)    \n",
    "    else:\n",
    "        avg_dist = total_dist\n",
    "    #print(\"Total Distance Travelled on Political Compass as a vote transfers \", total_dist)\n",
    "    #print(\"Average Distance Travelled on Political Compass of each vote transfers \", avg_dist)\n",
    "\n",
    "    return(total_dist, avg_dist, big_dist)"
   ]
  },
  {
   "cell_type": "code",
   "execution_count": 21,
   "metadata": {},
   "outputs": [],
   "source": [
    "def getVotesParty(voterow, partieslegend):\n",
    "    #convert a vote row into parties initials\n",
    "    voteP=[]\n",
    "    for v in range(len(voterow)):\n",
    "        for w in range(len(voterow)):\n",
    "            if voterow[w] == v+1:\n",
    "                voteP.append(partieslegend[w])\n",
    "    return(voteP)"
   ]
  },
  {
   "cell_type": "code",
   "execution_count": 22,
   "metadata": {},
   "outputs": [
    {
     "data": {
      "text/html": [
       "<div>\n",
       "<style scoped>\n",
       "    .dataframe tbody tr th:only-of-type {\n",
       "        vertical-align: middle;\n",
       "    }\n",
       "\n",
       "    .dataframe tbody tr th {\n",
       "        vertical-align: top;\n",
       "    }\n",
       "\n",
       "    .dataframe thead th {\n",
       "        text-align: right;\n",
       "    }\n",
       "</style>\n",
       "<table border=\"1\" class=\"dataframe\">\n",
       "  <thead>\n",
       "    <tr style=\"text-align: right;\">\n",
       "      <th></th>\n",
       "      <th>FG</th>\n",
       "      <th>SP</th>\n",
       "      <th>SF</th>\n",
       "      <th>FF</th>\n",
       "      <th>NP</th>\n",
       "      <th>FF.1</th>\n",
       "      <th>FG.1</th>\n",
       "      <th>NP.1</th>\n",
       "      <th>LB</th>\n",
       "      <th>GP</th>\n",
       "      <th>NP.2</th>\n",
       "      <th>FF.2</th>\n",
       "      <th>maxValues</th>\n",
       "      <th>Euclid Dist</th>\n",
       "      <th>Avg. Euc. Dist</th>\n",
       "      <th>Biggest Dist</th>\n",
       "    </tr>\n",
       "  </thead>\n",
       "  <tbody>\n",
       "    <tr>\n",
       "      <th>43933</th>\n",
       "      <td>9.0</td>\n",
       "      <td>3.0</td>\n",
       "      <td>7.0</td>\n",
       "      <td>11.0</td>\n",
       "      <td>2.0</td>\n",
       "      <td>10.0</td>\n",
       "      <td>8.0</td>\n",
       "      <td>4.0</td>\n",
       "      <td>5.0</td>\n",
       "      <td>1.0</td>\n",
       "      <td>6.0</td>\n",
       "      <td>12.0</td>\n",
       "      <td>12.0</td>\n",
       "      <td>34.018584</td>\n",
       "      <td>3.092599</td>\n",
       "      <td>8.139410</td>\n",
       "    </tr>\n",
       "    <tr>\n",
       "      <th>43934</th>\n",
       "      <td>NaN</td>\n",
       "      <td>NaN</td>\n",
       "      <td>NaN</td>\n",
       "      <td>NaN</td>\n",
       "      <td>NaN</td>\n",
       "      <td>NaN</td>\n",
       "      <td>NaN</td>\n",
       "      <td>NaN</td>\n",
       "      <td>1.0</td>\n",
       "      <td>2.0</td>\n",
       "      <td>NaN</td>\n",
       "      <td>NaN</td>\n",
       "      <td>2.0</td>\n",
       "      <td>2.915476</td>\n",
       "      <td>2.915476</td>\n",
       "      <td>2.915476</td>\n",
       "    </tr>\n",
       "    <tr>\n",
       "      <th>43935</th>\n",
       "      <td>NaN</td>\n",
       "      <td>6.0</td>\n",
       "      <td>NaN</td>\n",
       "      <td>4.0</td>\n",
       "      <td>NaN</td>\n",
       "      <td>5.0</td>\n",
       "      <td>1.0</td>\n",
       "      <td>NaN</td>\n",
       "      <td>NaN</td>\n",
       "      <td>2.0</td>\n",
       "      <td>NaN</td>\n",
       "      <td>3.0</td>\n",
       "      <td>6.0</td>\n",
       "      <td>22.675485</td>\n",
       "      <td>4.535097</td>\n",
       "      <td>10.689247</td>\n",
       "    </tr>\n",
       "    <tr>\n",
       "      <th>43936</th>\n",
       "      <td>11.0</td>\n",
       "      <td>4.0</td>\n",
       "      <td>10.0</td>\n",
       "      <td>3.0</td>\n",
       "      <td>9.0</td>\n",
       "      <td>2.0</td>\n",
       "      <td>6.0</td>\n",
       "      <td>12.0</td>\n",
       "      <td>7.0</td>\n",
       "      <td>5.0</td>\n",
       "      <td>8.0</td>\n",
       "      <td>1.0</td>\n",
       "      <td>12.0</td>\n",
       "      <td>45.311041</td>\n",
       "      <td>4.119186</td>\n",
       "      <td>10.689247</td>\n",
       "    </tr>\n",
       "    <tr>\n",
       "      <th>43937</th>\n",
       "      <td>NaN</td>\n",
       "      <td>NaN</td>\n",
       "      <td>NaN</td>\n",
       "      <td>1.0</td>\n",
       "      <td>4.0</td>\n",
       "      <td>2.0</td>\n",
       "      <td>NaN</td>\n",
       "      <td>3.0</td>\n",
       "      <td>NaN</td>\n",
       "      <td>NaN</td>\n",
       "      <td>NaN</td>\n",
       "      <td>NaN</td>\n",
       "      <td>4.0</td>\n",
       "      <td>3.465545</td>\n",
       "      <td>1.155182</td>\n",
       "      <td>3.465545</td>\n",
       "    </tr>\n",
       "    <tr>\n",
       "      <th>43938</th>\n",
       "      <td>3.0</td>\n",
       "      <td>4.0</td>\n",
       "      <td>7.0</td>\n",
       "      <td>NaN</td>\n",
       "      <td>6.0</td>\n",
       "      <td>11.0</td>\n",
       "      <td>10.0</td>\n",
       "      <td>5.0</td>\n",
       "      <td>2.0</td>\n",
       "      <td>1.0</td>\n",
       "      <td>8.0</td>\n",
       "      <td>9.0</td>\n",
       "      <td>11.0</td>\n",
       "      <td>40.278829</td>\n",
       "      <td>4.027883</td>\n",
       "      <td>11.629703</td>\n",
       "    </tr>\n",
       "    <tr>\n",
       "      <th>43939</th>\n",
       "      <td>NaN</td>\n",
       "      <td>2.0</td>\n",
       "      <td>NaN</td>\n",
       "      <td>NaN</td>\n",
       "      <td>3.0</td>\n",
       "      <td>NaN</td>\n",
       "      <td>NaN</td>\n",
       "      <td>NaN</td>\n",
       "      <td>NaN</td>\n",
       "      <td>1.0</td>\n",
       "      <td>NaN</td>\n",
       "      <td>NaN</td>\n",
       "      <td>3.0</td>\n",
       "      <td>13.453832</td>\n",
       "      <td>6.726916</td>\n",
       "      <td>7.433034</td>\n",
       "    </tr>\n",
       "    <tr>\n",
       "      <th>43940</th>\n",
       "      <td>6.0</td>\n",
       "      <td>1.0</td>\n",
       "      <td>4.0</td>\n",
       "      <td>9.0</td>\n",
       "      <td>12.0</td>\n",
       "      <td>8.0</td>\n",
       "      <td>3.0</td>\n",
       "      <td>11.0</td>\n",
       "      <td>10.0</td>\n",
       "      <td>5.0</td>\n",
       "      <td>2.0</td>\n",
       "      <td>7.0</td>\n",
       "      <td>12.0</td>\n",
       "      <td>36.501039</td>\n",
       "      <td>3.318276</td>\n",
       "      <td>8.139410</td>\n",
       "    </tr>\n",
       "    <tr>\n",
       "      <th>43941</th>\n",
       "      <td>7.0</td>\n",
       "      <td>4.0</td>\n",
       "      <td>NaN</td>\n",
       "      <td>6.0</td>\n",
       "      <td>5.0</td>\n",
       "      <td>8.0</td>\n",
       "      <td>3.0</td>\n",
       "      <td>9.0</td>\n",
       "      <td>1.0</td>\n",
       "      <td>2.0</td>\n",
       "      <td>10.0</td>\n",
       "      <td>11.0</td>\n",
       "      <td>11.0</td>\n",
       "      <td>40.748784</td>\n",
       "      <td>4.074878</td>\n",
       "      <td>11.629703</td>\n",
       "    </tr>\n",
       "    <tr>\n",
       "      <th>43942</th>\n",
       "      <td>NaN</td>\n",
       "      <td>NaN</td>\n",
       "      <td>NaN</td>\n",
       "      <td>3.0</td>\n",
       "      <td>NaN</td>\n",
       "      <td>2.0</td>\n",
       "      <td>NaN</td>\n",
       "      <td>NaN</td>\n",
       "      <td>NaN</td>\n",
       "      <td>1.0</td>\n",
       "      <td>NaN</td>\n",
       "      <td>NaN</td>\n",
       "      <td>3.0</td>\n",
       "      <td>5.622277</td>\n",
       "      <td>2.811139</td>\n",
       "      <td>5.622277</td>\n",
       "    </tr>\n",
       "  </tbody>\n",
       "</table>\n",
       "</div>"
      ],
      "text/plain": [
       "         FG   SP    SF    FF    NP  FF.1  FG.1  NP.1    LB   GP  NP.2  FF.2  \\\n",
       "43933   9.0  3.0   7.0  11.0   2.0  10.0   8.0   4.0   5.0  1.0   6.0  12.0   \n",
       "43934   NaN  NaN   NaN   NaN   NaN   NaN   NaN   NaN   1.0  2.0   NaN   NaN   \n",
       "43935   NaN  6.0   NaN   4.0   NaN   5.0   1.0   NaN   NaN  2.0   NaN   3.0   \n",
       "43936  11.0  4.0  10.0   3.0   9.0   2.0   6.0  12.0   7.0  5.0   8.0   1.0   \n",
       "43937   NaN  NaN   NaN   1.0   4.0   2.0   NaN   3.0   NaN  NaN   NaN   NaN   \n",
       "43938   3.0  4.0   7.0   NaN   6.0  11.0  10.0   5.0   2.0  1.0   8.0   9.0   \n",
       "43939   NaN  2.0   NaN   NaN   3.0   NaN   NaN   NaN   NaN  1.0   NaN   NaN   \n",
       "43940   6.0  1.0   4.0   9.0  12.0   8.0   3.0  11.0  10.0  5.0   2.0   7.0   \n",
       "43941   7.0  4.0   NaN   6.0   5.0   8.0   3.0   9.0   1.0  2.0  10.0  11.0   \n",
       "43942   NaN  NaN   NaN   3.0   NaN   2.0   NaN   NaN   NaN  1.0   NaN   NaN   \n",
       "\n",
       "       maxValues  Euclid Dist  Avg. Euc. Dist  Biggest Dist  \n",
       "43933       12.0    34.018584        3.092599      8.139410  \n",
       "43934        2.0     2.915476        2.915476      2.915476  \n",
       "43935        6.0    22.675485        4.535097     10.689247  \n",
       "43936       12.0    45.311041        4.119186     10.689247  \n",
       "43937        4.0     3.465545        1.155182      3.465545  \n",
       "43938       11.0    40.278829        4.027883     11.629703  \n",
       "43939        3.0    13.453832        6.726916      7.433034  \n",
       "43940       12.0    36.501039        3.318276      8.139410  \n",
       "43941       11.0    40.748784        4.074878     11.629703  \n",
       "43942        3.0     5.622277        2.811139      5.622277  "
      ]
     },
     "metadata": {},
     "output_type": "display_data"
    }
   ],
   "source": [
    "#calculate the euclidean distance for all rows\n",
    "EuclidDist = []\n",
    "AvgEucDist =[]\n",
    "BiggestDist =[]\n",
    "for dft5 in range(len(df)):\n",
    "    #print(dft5)\n",
    "    dftR = list(df.iloc[dft5])\n",
    "    del dftR[-1]\n",
    "    #print(\"Call get Votes for Party in row\")\n",
    "    votePList=getVotesParty(dftR, partiesList2)\n",
    "    #print(votePList)\n",
    "    (tD, aD, bD) = getEuclidVoteDetails(votePList, dfPC)\n",
    "    #print(tD, aD)\n",
    "    EuclidDist.append(tD)\n",
    "    AvgEucDist.append(aD)\n",
    "    BiggestDist.append(bD)\n",
    "    \n",
    "#print(EuclidDist)\n",
    "#print(AvgEucDist)\n",
    "#print(type(EuclidDist))\n",
    "df['Euclid Dist'] = np.array(EuclidDist)\n",
    "df['Avg. Euc. Dist'] = np.array(AvgEucDist)\n",
    "df['Biggest Dist'] = np.array(BiggestDist)\n",
    "display(df.tail(10))\n"
   ]
  },
  {
   "cell_type": "code",
   "execution_count": 23,
   "metadata": {},
   "outputs": [
    {
     "data": {
      "text/plain": [
       "Text(0.5, 0, 'Euclid Distance')"
      ]
     },
     "execution_count": 23,
     "metadata": {},
     "output_type": "execute_result"
    },
    {
     "data": {
      "image/png": "[encoded data removed]",
      "text/plain": [
       "<Figure size 720x432 with 1 Axes>"
      ]
     },
     "metadata": {
      "image/png": {
       "height": 386,
       "width": 612
      },
      "needs_background": "light"
     },
     "output_type": "display_data"
    }
   ],
   "source": [
    "# Import the libraries\n",
    "import matplotlib.pyplot as plt\n",
    "import seaborn as sns\n",
    "\n",
    "# matplotlib histogram\n",
    "dfmh = pd.DataFrame()\n",
    "dfmh = df.loc[df['maxValues']==5.0]\n",
    "\n",
    "plt.hist(dfmh['Euclid Dist'], color = 'blue', edgecolor = 'black',\n",
    "         bins = int(180/5))\n",
    "\n",
    "dfh= pd.DataFrame()\n",
    "dfh['maxValues'] = df['maxValues']\n",
    "dfh['Euclid Dist'] = df['Euclid Dist']\n",
    "dfh['Avg. Euc. Dist'] = df['Avg. Euc. Dist']\n",
    "\n",
    "# Plot Histogram\n",
    "#sns.histplot(data = dfh, x = dfh['Euclid Dist'], kde = True, hue = dfh['maxValues'])\n",
    "\n",
    "# seaborn histogram\n",
    "#sns.distplot(df['Euclid Dist'], hist=True, kde=False, \n",
    "#             bins=int(180/5), color = 'blue',\n",
    "#             hist_kws={'edgecolor':'black'})\n",
    "\n",
    "#sns.histplot(data = df['Euclid Dist'])\n",
    "\n",
    "# Add labels\n",
    "plt.title('Histogram of Votes v Euclid Dist')\n",
    "plt.ylabel('Votes')\n",
    "plt.xlabel('Euclid Distance')"
   ]
  },
  {
   "cell_type": "code",
   "execution_count": null,
   "metadata": {},
   "outputs": [
    {
     "name": "stderr",
     "output_type": "stream",
     "text": [
      "/anaconda38/anaconda3/lib/python3.8/site-packages/seaborn/distributions.py:2551: FutureWarning: `distplot` is a deprecated function and will be removed in a future version. Please adapt your code to use either `displot` (a figure-level function with similar flexibility) or `histplot` (an axes-level function for histograms).\n",
      "  warnings.warn(msg, FutureWarning)\n"
     ]
    }
   ],
   "source": [
    "import seaborn as sns\n",
    "\n",
    "sns.set(style='whitegrid', palette=\"deep\", font_scale=1.1, rc={\"figure.figsize\": [8, 5]})\n",
    "sns.distplot(\n",
    "    dfmh['Euclid Dist'], norm_hist=False, kde=False, bins=36, hist_kws={\"alpha\": 1}\n",
    ").set(xlabel='Euclid Distance', ylabel='Votes');"
   ]
  },
  {
   "cell_type": "code",
   "execution_count": null,
   "metadata": {},
   "outputs": [],
   "source": [
    "df.fillna(0)\n",
    "plist= list(df.columns)\n",
    "plist2=plist[:-3]\n",
    "print(plist2)\n",
    "print(df[plist2].head())\n"
   ]
  },
  {
   "cell_type": "code",
   "execution_count": null,
   "metadata": {},
   "outputs": [],
   "source": [
    "df.shape"
   ]
  },
  {
   "cell_type": "code",
   "execution_count": null,
   "metadata": {},
   "outputs": [],
   "source": [
    "#df['maxValues'].hist(bins=15, figsize=(15, 6), layout=(10335, 12));"
   ]
  },
  {
   "cell_type": "code",
   "execution_count": null,
   "metadata": {},
   "outputs": [],
   "source": [
    "# calculate the avg, mean median min and max of the euclidean distance for each preference \n",
    "dfeucmean =  df.groupby('maxValues')['Euclid Dist'].mean()\n",
    "dfeucmedian =  df.groupby('maxValues')['Euclid Dist'].median()\n",
    "#dfeucmode =  df.groupby('maxValues')['Euclid Dist'].mode() # no mode"
   ]
  },
  {
   "cell_type": "code",
   "execution_count": null,
   "metadata": {},
   "outputs": [],
   "source": [
    "dfeucmin =  df.groupby('maxValues')['Euclid Dist'].min()\n",
    "dfeucmax =  df.groupby('maxValues')['Euclid Dist'].max()"
   ]
  },
  {
   "cell_type": "code",
   "execution_count": null,
   "metadata": {},
   "outputs": [],
   "source": [
    "#convert list to numpy array since lists seem to add at row 1 not 0\n",
    "dfpref['Euc Mean'] = np.array(dfeucmean)\n",
    "dfpref['Euc Median'] = np.array(dfeucmedian)\n",
    "dfpref['Euc Min']  = np.array(dfeucmin)\n",
    "dfpref['Euc Max']  = np.array(dfeucmax)"
   ]
  },
  {
   "cell_type": "markdown",
   "metadata": {},
   "source": [
    "## Display the Statistics Table of the Vote"
   ]
  },
  {
   "cell_type": "code",
   "execution_count": null,
   "metadata": {
    "scrolled": false
   },
   "outputs": [],
   "source": [
    "# displaying the dataframe\n",
    "display(dfpref)"
   ]
  },
  {
   "cell_type": "markdown",
   "metadata": {},
   "source": [
    "### Write Statistics table to csv file"
   ]
  },
  {
   "cell_type": "code",
   "execution_count": null,
   "metadata": {},
   "outputs": [],
   "source": [
    "#filename and dir\n",
    "out_csv='../data/stats/'+constituency+'_statistics.csv'\n",
    "\n",
    "#write to csv file\n",
    "dfpref.to_csv(out_csv)"
   ]
  },
  {
   "cell_type": "markdown",
   "metadata": {},
   "source": [
    "### write out the dataframe with generated fields, categorise sequence as regular (1)"
   ]
  },
  {
   "cell_type": "code",
   "execution_count": null,
   "metadata": {
    "scrolled": true
   },
   "outputs": [],
   "source": [
    "#add column with \n",
    "df['Seq']=1\n",
    "\n",
    "#filename and dir\n",
    "out_csv='../data/processed/'+constituency+'_reg.csv'\n",
    "display(df.head(10))\n",
    "\n",
    "#write to csv file\n",
    "df.to_csv(out_csv)"
   ]
  },
  {
   "cell_type": "markdown",
   "metadata": {},
   "source": [
    "### Bar Plot of the Percentages of Preferenes Cast v Possible Preferences"
   ]
  },
  {
   "cell_type": "code",
   "execution_count": null,
   "metadata": {},
   "outputs": [],
   "source": [
    "# Set the figure size - handy for larger output\n",
    "plt.rcParams[\"figure.figsize\"] = [10, 6]\n",
    "# Set up with a higher resolution screen (useful on Mac)\n",
    "%config InlineBackend.figure_format = 'retina'\n",
    "\n",
    "#create data frame for bar chart\n",
    "plotdata = pd.DataFrame([], \n",
    "    index=pieLabels\n",
    ")\n",
    "plotdata['Cast']=list(dfpref['Unique Votes'])\n",
    "plotdata['nPr']=list(dfpref['nPr'])"
   ]
  },
  {
   "cell_type": "code",
   "execution_count": null,
   "metadata": {},
   "outputs": [],
   "source": [
    "stacked_data = plotdata.apply(lambda x: x*100/sum(x), axis=1)\n",
    "stacked_data.plot(kind=\"bar\", stacked=True)\n",
    "plt.title(constituency + \" Votes cast to Possible Votes, Candidates(n)=9\")\n",
    "plt.xlabel(\"Votes Cast (r)\")\n",
    "plt.ylabel(\"Percentage of votes cast to possible votes (%)\")\n",
    "\n",
    "# Save the bar\n",
    "plt.savefig('../images/'+constituency+'_pref_percent_bar.png')\n",
    "plt.show()"
   ]
  },
  {
   "cell_type": "code",
   "execution_count": null,
   "metadata": {},
   "outputs": [],
   "source": [
    "print(dfpref['Euc Max'])"
   ]
  },
  {
   "cell_type": "code",
   "execution_count": null,
   "metadata": {},
   "outputs": [],
   "source": [
    "df.loc[(df['Avg. Euc. Dist'] > 5.0) & (df['maxValues']==7.0)]"
   ]
  },
  {
   "cell_type": "code",
   "execution_count": null,
   "metadata": {},
   "outputs": [],
   "source": [
    "df.loc[(df['Euclid Dist'] > 46.3) & (df['maxValues']==7.0)]"
   ]
  },
  {
   "cell_type": "code",
   "execution_count": null,
   "metadata": {},
   "outputs": [],
   "source": [
    "dfn = pd.DataFrame()\n",
    "dfn['Preferences'] = dfpref['Pref']\n",
    "dfn['Permutations(nPr)'] = dfpref['nPr']\n",
    "dfn['Unique Votes'] = dfpref['Unique Votes']\n",
    "dfn['Available Permutations'] = dfpref['nPr'] - dfpref['Unique Votes']\n",
    "display(dfn)"
   ]
  },
  {
   "cell_type": "code",
   "execution_count": null,
   "metadata": {},
   "outputs": [],
   "source": []
  },
  {
   "cell_type": "code",
   "execution_count": null,
   "metadata": {},
   "outputs": [],
   "source": []
  }
 ],
 "metadata": {
  "kernelspec": {
   "display_name": "Python 3",
   "language": "python",
   "name": "python3"
  },
  "language_info": {
   "codemirror_mode": {
    "name": "ipython",
    "version": 3
   },
   "file_extension": ".py",
   "mimetype": "text/x-python",
   "name": "python",
   "nbconvert_exporter": "python",
   "pygments_lexer": "ipython3",
   "version": "3.8.5"
  }
 },
 "nbformat": 4,
 "nbformat_minor": 4
}
