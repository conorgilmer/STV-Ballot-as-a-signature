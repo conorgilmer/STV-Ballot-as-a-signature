{
 "cells": [
  {
   "cell_type": "code",
   "execution_count": 13,
   "metadata": {},
   "outputs": [],
   "source": [
    "#generate random permutations nPr = P(n,r) = n!/(n-r)!\n",
    "import random\n",
    "import itertools\n",
    "import pandas as pd\n",
    "\n",
    "n = 14 #candidates (Meath 14, Dublin North 12, Dublin West 9)\n",
    "r = 7  #preference cast\n",
    "o = 25000  #number of permutations to be generated\n",
    "nlist = list(range(1, n+1)) \n",
    "\n",
    "randGenPer = random.sample(list(itertools.permutations(nlist, r)), o)\n",
    "\n",
    "#for i in randGenPer:\n",
    "#  print(i)"
   ]
  },
  {
   "cell_type": "code",
   "execution_count": 14,
   "metadata": {},
   "outputs": [],
   "source": [
    "#generate data frame from list\n",
    "dfRandGenPer = pd.DataFrame(randGenPer)\n",
    "#drop all dublicate rows keeping last one\n",
    "dfRandGenPer.drop_duplicates(keep='last', inplace=True)"
   ]
  },
  {
   "cell_type": "code",
   "execution_count": 15,
   "metadata": {},
   "outputs": [],
   "source": [
    "#write to csv file\n",
    "dfRandGenPer.to_csv('../data/randGenPer-'+str(n)+'P'+str(r)+'.csv')"
   ]
  },
  {
   "cell_type": "code",
   "execution_count": 16,
   "metadata": {},
   "outputs": [
    {
     "name": "stdout",
     "output_type": "stream",
     "text": [
      "        0  1   2  3   4   5   6\n",
      "24995  13  1  10  4  12   7  11\n",
      "24996   2  3  13  7  12  14   5\n",
      "24997  12  5  13  8   1   9   2\n",
      "24998   3  9   4  2   7   8  10\n",
      "24999  14  8   5  3  12   9  11\n"
     ]
    }
   ],
   "source": [
    "print(dfRandGenPer.tail())"
   ]
  },
  {
   "cell_type": "code",
   "execution_count": null,
   "metadata": {},
   "outputs": [],
   "source": []
  }
 ],
 "metadata": {
  "kernelspec": {
   "display_name": "Python 3",
   "language": "python",
   "name": "python3"
  },
  "language_info": {
   "codemirror_mode": {
    "name": "ipython",
    "version": 3
   },
   "file_extension": ".py",
   "mimetype": "text/x-python",
   "name": "python",
   "nbconvert_exporter": "python",
   "pygments_lexer": "ipython3",
   "version": "3.8.5"
  }
 },
 "nbformat": 4,
 "nbformat_minor": 4
}
