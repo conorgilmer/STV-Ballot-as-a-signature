{
 "cells": [
  {
   "cell_type": "markdown",
   "metadata": {},
   "source": [
    "# Generate Random numbers nPr with r between 2 values"
   ]
  },
  {
   "cell_type": "code",
   "execution_count": 1,
   "metadata": {},
   "outputs": [],
   "source": [
    "#generate random permutations nPr = P(n,r) = n!/(n-r)!\n",
    "import random\n",
    "import itertools\n",
    "import pandas as pd\n",
    "import numpy as np\n",
    "\n",
    "#constituency = 'Meath2002'\n",
    "#constituency = 'DublinNorth2002'\n",
    "constituency = 'DublinWest2002'\n",
    "n = 9 #candidates (Meath 14, Dublin North 12, Dublin West 9)\n",
    "r = 7  #preference cast\n",
    "o = 10000 #number of permutations to be generated (25000, 20000, 10000)\n",
    "nlist = list(range(1, n+1)) \n",
    "\n",
    "randGenPer = random.sample(list(itertools.permutations(nlist, r)), o)"
   ]
  },
  {
   "cell_type": "markdown",
   "metadata": {},
   "source": [
    "## Convert the permutation lists into a list of votes"
   ]
  },
  {
   "cell_type": "code",
   "execution_count": 2,
   "metadata": {},
   "outputs": [],
   "source": [
    "#function to convert a permutation list into vote\n",
    "def listToVote(listgen, num):\n",
    "    voteList=[]\n",
    "    for j in range(num):\n",
    "        voteList.append(np.NaN)\n",
    "    #print(voteList)\n",
    "\n",
    "    for k in range(len(listgen)):\n",
    "        voteList[listgen[k]-1] =k+1 \n",
    "    return(voteList)\n",
    "    "
   ]
  },
  {
   "cell_type": "code",
   "execution_count": 3,
   "metadata": {},
   "outputs": [],
   "source": [
    "#convert each of the permutations generated into a vote\n",
    "votesGen=[]\n",
    "for row in randGenPer:\n",
    "    #print(row)\n",
    "    votesGen.append(listToVote(row,n))\n",
    "#print(votesGen)"
   ]
  },
  {
   "cell_type": "markdown",
   "metadata": {},
   "source": [
    "## Make data frame from list and write to file"
   ]
  },
  {
   "cell_type": "code",
   "execution_count": 4,
   "metadata": {},
   "outputs": [],
   "source": [
    "#generate data frame from list\n",
    "dfRandGenPer = pd.DataFrame(votesGen)\n",
    "#drop all dublicate rows keeping last one\n",
    "dfRandGenPer.drop_duplicates(keep='last', inplace=True)"
   ]
  },
  {
   "cell_type": "code",
   "execution_count": 5,
   "metadata": {},
   "outputs": [],
   "source": [
    "# float_format='%.0f' to get rid of the decimal 1 not 1.0\n",
    "#write to csv file\n",
    "dfRandGenPer.to_csv('../data/'+constituency+'-'+str(n)+'P'+str(r)+'-r-'+str(o)+'Generated.csv', \n",
    "                    float_format='%.0f')\n"
   ]
  },
  {
   "cell_type": "code",
   "execution_count": null,
   "metadata": {},
   "outputs": [],
   "source": [
    "\n"
   ]
  },
  {
   "cell_type": "code",
   "execution_count": null,
   "metadata": {},
   "outputs": [],
   "source": []
  }
 ],
 "metadata": {
  "kernelspec": {
   "display_name": "Python 3",
   "language": "python",
   "name": "python3"
  },
  "language_info": {
   "codemirror_mode": {
    "name": "ipython",
    "version": 3
   },
   "file_extension": ".py",
   "mimetype": "text/x-python",
   "name": "python",
   "nbconvert_exporter": "python",
   "pygments_lexer": "ipython3",
   "version": "3.8.5"
  }
 },
 "nbformat": 4,
 "nbformat_minor": 4
}
