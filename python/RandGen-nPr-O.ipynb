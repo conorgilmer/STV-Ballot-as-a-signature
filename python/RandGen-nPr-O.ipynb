{
 "cells": [
  {
   "cell_type": "markdown",
   "metadata": {},
   "source": [
    "# Generate Random numbers nPr with r between 2 values"
   ]
  },
  {
   "cell_type": "code",
   "execution_count": 1,
   "metadata": {},
   "outputs": [],
   "source": [
    "#generate random permutations nPr = P(n,r) = n!/(n-r)!\n",
    "import random\n",
    "import itertools\n",
    "import pandas as pd\n",
    "import numpy as np\n",
    "\n",
    "n = 12 #candidates (Meath 14, Dublin North 12, Dublin West 9)\n",
    "r = 7  #preference cast\n",
    "o = 10 #number of permutations to be generated\n",
    "nlist = list(range(1, n+1)) \n",
    "\n",
    "randGenPer = random.sample(list(itertools.permutations(nlist, r)), o)"
   ]
  },
  {
   "cell_type": "code",
   "execution_count": 2,
   "metadata": {},
   "outputs": [
    {
     "name": "stdout",
     "output_type": "stream",
     "text": [
      "[(6, 3, 11, 2, 9, 4, 10), (11, 10, 7, 4, 1, 5, 12), (2, 9, 10, 11, 7, 6, 4), (12, 7, 10, 4, 11, 9, 6), (10, 11, 4, 6, 7, 9, 1), (6, 2, 12, 11, 8, 3, 1), (1, 7, 9, 5, 12, 10, 3), (4, 6, 5, 10, 7, 12, 11), (12, 6, 1, 4, 10, 9, 8), (9, 3, 7, 4, 10, 1, 6)]\n"
     ]
    }
   ],
   "source": [
    "print(randGenPer)"
   ]
  },
  {
   "cell_type": "markdown",
   "metadata": {},
   "source": [
    "## Convert the permutation lists into a list of votes"
   ]
  },
  {
   "cell_type": "code",
   "execution_count": 3,
   "metadata": {},
   "outputs": [],
   "source": [
    "#function to convert a permutation list into vote\n",
    "def listToVote(listgen, num):\n",
    "    voteList=[]\n",
    "    for j in range(num):\n",
    "        voteList.append(np.NaN)\n",
    "    #print(voteList)\n",
    "\n",
    "    for k in range(len(listgen)):\n",
    "        voteList[listgen[k]-1] =k+1 \n",
    "    return(voteList)\n",
    "    "
   ]
  },
  {
   "cell_type": "code",
   "execution_count": 4,
   "metadata": {},
   "outputs": [
    {
     "name": "stdout",
     "output_type": "stream",
     "text": [
      "[[nan, 4, 2, 6, nan, 1, nan, nan, 5, 7, 3, nan], [5, nan, nan, 4, 6, nan, 3, nan, nan, 2, 1, 7], [nan, 1, nan, 7, nan, 6, 5, nan, 2, 3, 4, nan], [nan, nan, nan, 4, nan, 7, 2, nan, 6, 3, 5, 1], [7, nan, nan, 3, nan, 4, 5, nan, 6, 1, 2, nan], [7, 2, 6, nan, nan, 1, nan, 5, nan, nan, 4, 3], [1, nan, 7, nan, 4, nan, 2, nan, 3, 6, nan, 5], [nan, nan, nan, 1, 3, 2, 5, nan, nan, 4, 7, 6], [3, nan, nan, 4, nan, 2, nan, 7, 6, 5, nan, 1], [6, nan, 2, 4, nan, 7, 3, nan, 1, 5, nan, nan]]\n"
     ]
    }
   ],
   "source": [
    "#convert each of the permutations generated into a vote\n",
    "votesGen=[]\n",
    "for row in randGenPer:\n",
    "    #print(row)\n",
    "    votesGen.append(listToVote(row,n))\n",
    "print(votesGen)"
   ]
  },
  {
   "cell_type": "markdown",
   "metadata": {},
   "source": [
    "## Make data frame from list and write to file"
   ]
  },
  {
   "cell_type": "code",
   "execution_count": 5,
   "metadata": {},
   "outputs": [],
   "source": [
    "#generate data frame from list\n",
    "dfRandGenPer = pd.DataFrame(votesGen)\n",
    "#drop all dublicate rows keeping last one\n",
    "dfRandGenPer.drop_duplicates(keep='last', inplace=True)"
   ]
  },
  {
   "cell_type": "code",
   "execution_count": 13,
   "metadata": {},
   "outputs": [],
   "source": [
    "# float_format='%.0f' to get rid of the decimal 1 not 1.0\n",
    "#write to csv file\n",
    "dfRandGenPer.to_csv('../data/randGenPer-'+str(n)+'P'+str(r)+'-r-'+str(o)+'Generated.csv', \n",
    "                    float_format='%.0f')\n"
   ]
  },
  {
   "cell_type": "code",
   "execution_count": null,
   "metadata": {},
   "outputs": [],
   "source": [
    "\n"
   ]
  }
 ],
 "metadata": {
  "kernelspec": {
   "display_name": "Python 3",
   "language": "python",
   "name": "python3"
  },
  "language_info": {
   "codemirror_mode": {
    "name": "ipython",
    "version": 3
   },
   "file_extension": ".py",
   "mimetype": "text/x-python",
   "name": "python",
   "nbconvert_exporter": "python",
   "pygments_lexer": "ipython3",
   "version": "3.8.5"
  }
 },
 "nbformat": 4,
 "nbformat_minor": 4
}
