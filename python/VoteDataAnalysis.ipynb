{
 "cells": [
  {
   "cell_type": "markdown",
   "metadata": {},
   "source": [
    "# Vote Data Analysis from 2002 Irish General Election e-voting trial"
   ]
  },
  {
   "cell_type": "code",
   "execution_count": null,
   "metadata": {
    "scrolled": true
   },
   "outputs": [],
   "source": [
    "#read vote data from csv\n",
    "import matplotlib.pyplot as plt\n",
    "import numpy as np\n",
    "import pandas as pd\n",
    "import math \n",
    "\n",
    "%matplotlib inline\n",
    "\n",
    "#input file\n",
    "#constituency=\"DublinNorth2002\"\n",
    "#constituency=\"DublinWest2002\"\n",
    "constituency=\"Meath2002\"\n",
    "my_csv='../data/'+constituency+'.csv'\n",
    "#my_csv ='../data/Meath2002.csv'\n",
    "#my_csv ='../data/DublinNorth2002.csv'\n",
    "#my_csv ='../data/DublinWest2002.csv'\n",
    "\n",
    "#read in data (setting 1st row as header)\n",
    "df = pd.read_csv(my_csv, na_values=[\"Missing\"], header=[0])\n",
    "\n",
    "#set column names as first line\n",
    "df.head()\n",
    "print(\"Print Data Frame (df)\")\n",
    "print(df)\n",
    "print(\"Print Column names\")\n",
    "print(df.columns)\n",
    "\n",
    "#drop the numbers column (#df=df.drop(['No.'], 1))\n",
    "df = df.drop(df.columns[[0]], axis=1)  # df.columns is zero-based pd.Index\n",
    "#reset index to start a 1 and not 0\n",
    "df.index = df.index + 1"
   ]
  },
  {
   "cell_type": "markdown",
   "metadata": {},
   "source": [
    "# Statistics on election - candidates and votes"
   ]
  },
  {
   "cell_type": "code",
   "execution_count": null,
   "metadata": {},
   "outputs": [],
   "source": [
    "#Stats No. of Candidates(columns) and Votes(rows), all combinations of candidates = candidates!\n",
    "print(\"Statistics on Dataframe\")\n",
    "candidates = len(df.columns)\n",
    "print(\"No. of Candidates = \", candidates)\n",
    "votes = len(df.index)\n",
    "print(\"No. of Votes = \", votes)\n",
    "print(\"No. of all possible Combinations (candidates)! = \", math.factorial(candidates))"
   ]
  },
  {
   "cell_type": "markdown",
   "metadata": {},
   "source": [
    "## Additional Statistics on Actual Vote Data"
   ]
  },
  {
   "cell_type": "code",
   "execution_count": null,
   "metadata": {},
   "outputs": [],
   "source": [
    "import statistics as stats\n",
    "df.head()\n",
    "#print(df.describe())\n",
    "df.max()\n",
    "# find the maximum values of each row (the highest vote preference cast)\n",
    "maxValues = df.max(axis = 1)\n",
    "#print(maxValues)\n",
    "#mean - average \n",
    "print(f\"Average(Mean) value = {stats.mean(maxValues)}\")\n",
    "#mode - most frequent occuring value\n",
    "print(f\"Mode(most often number of votes cast = {stats.mode(maxValues)}\")\n",
    "#median - middle value\n",
    "print(f\"Middle value of votes cast = {stats.median(maxValues)}\")\n"
   ]
  },
  {
   "cell_type": "markdown",
   "metadata": {},
   "source": [
    "## Calculate maximum values (number of preferences) for each vote(row)"
   ]
  },
  {
   "cell_type": "code",
   "execution_count": null,
   "metadata": {},
   "outputs": [],
   "source": [
    "#add a column of the maximum count of the rows(highest preference vote cast)\n",
    "df['maxValues'] = df.max(axis = 1)"
   ]
  },
  {
   "cell_type": "code",
   "execution_count": null,
   "metadata": {
    "scrolled": true
   },
   "outputs": [],
   "source": [
    "mval=(df['maxValues'].value_counts())\n",
    "mval.sort_index(ascending=True, inplace=True)\n",
    "print(mval.values)\n",
    "print(mval.index)"
   ]
  },
  {
   "cell_type": "markdown",
   "metadata": {},
   "source": [
    "# Plot Histogram of the number of transfers a voter casts"
   ]
  },
  {
   "cell_type": "code",
   "execution_count": null,
   "metadata": {
    "scrolled": true
   },
   "outputs": [],
   "source": [
    "from collections import Counter\n",
    "import numpy as np\n",
    "import matplotlib.pyplot as plt\n",
    "\n",
    "#counts = Counter(word_list)\n",
    "#labels, values = zip(*counts.items())\n",
    "# sort your values in descending order\n",
    "#indSort = np.argsort(values)[::-1]\n",
    "\n",
    "# rearrange your data\n",
    "labels=mval.index\n",
    "values=mval.values\n",
    "indexes = np.arange(len(labels))\n",
    "print(labels)\n",
    "print(values)\n",
    "print(indexes)\n",
    "\n",
    "bar_width = 0.35\n",
    "\n",
    "# Add title and axis names\n",
    "plt.title(constituency+' - Preference votes cast')\n",
    "plt.xlabel('Preferences')\n",
    "plt.ylabel('votes')\n",
    "\n",
    "plt.bar(indexes, values)\n",
    "\n",
    "# add labels\n",
    "plt.xticks(indexes + bar_width, labels)\n",
    "\n",
    "\n",
    "# Save the histogram\n",
    "plt.savefig('../images/'+constituency+'hist.png')\n",
    "\n",
    "#show histogram\n",
    "plt.show()"
   ]
  },
  {
   "cell_type": "code",
   "execution_count": null,
   "metadata": {
    "scrolled": true
   },
   "outputs": [],
   "source": [
    "nPrList =[]\n",
    "for i in range(1,candidates+1):\n",
    "    nPrList.append(int(math.factorial(candidates)/(math.factorial(candidates-i))))\n",
    "print(nPrList)"
   ]
  },
  {
   "cell_type": "markdown",
   "metadata": {},
   "source": [
    "## Print number of preferences cast, and calculate percentage"
   ]
  },
  {
   "cell_type": "code",
   "execution_count": null,
   "metadata": {},
   "outputs": [],
   "source": [
    "# creating the dataframe from dictionary\n",
    "d={\"Pref\": labels, \"Votes\": values}    \n",
    "dfpref = pd.DataFrame(d)\n",
    "\n",
    "#calculate percentage of preferences cast and add to dataframe\n",
    "votz = dfpref.Votes.sum()  \n",
    "dfpref['Percentage'] = round(((dfpref['Votes']/votz)*100), 1)\n",
    "\n",
    "#calculate possible nPr = n!/(n-r)! values for each preference vote\n",
    "# candidates = n. No. of pref = r\n",
    "nPrList =[]\n",
    "for i in range(1,candidates+1):\n",
    "    nPrList.append(int(math.factorial(candidates)/(math.factorial(candidates-i))))\n",
    "#add nPr to dataframe    \n",
    "dfpref['nPr'] = nPrList\n",
    "\n",
    "# displaying the dataframe\n",
    "display(dfpref)"
   ]
  },
  {
   "cell_type": "markdown",
   "metadata": {},
   "source": [
    "# Calculate number of duplicated vote sequences"
   ]
  },
  {
   "cell_type": "code",
   "execution_count": null,
   "metadata": {},
   "outputs": [],
   "source": [
    "print((~df.duplicated()).sum())\n",
    "print(df.duplicated(keep='last').value_counts())"
   ]
  },
  {
   "cell_type": "code",
   "execution_count": null,
   "metadata": {},
   "outputs": [],
   "source": [
    "#drop all dublicate rows keeping last one\n",
    "df.drop_duplicates(keep='last', inplace=True, subset=df.columns.difference(['maxValues']))"
   ]
  },
  {
   "cell_type": "code",
   "execution_count": null,
   "metadata": {
    "scrolled": true
   },
   "outputs": [],
   "source": [
    "#print the number of votes, and the number of unique votes\n",
    "print(f\"Number of votes {votes}\")\n",
    "print(f\"Number of unique vote patterns (after removing duplicates) {len(df)}\")"
   ]
  },
  {
   "cell_type": "code",
   "execution_count": null,
   "metadata": {},
   "outputs": [],
   "source": [
    "# after removal of duplicates\n",
    "#add a column of the maximum count of the rows(highest preference vote cast)\n",
    "df['maxValues'] = df.max(axis = 1)\n",
    "\n",
    "mval=(df['maxValues'].value_counts())\n",
    "mval.sort_index(ascending=True, inplace=True)"
   ]
  },
  {
   "cell_type": "markdown",
   "metadata": {},
   "source": [
    "### calculate unique vote combinations for each preference cast "
   ]
  },
  {
   "cell_type": "code",
   "execution_count": null,
   "metadata": {},
   "outputs": [],
   "source": [
    "#calculate unique vote combinations for each preference cast \n",
    "dfpref['Unique Votes'] = mval.values\n",
    "\n",
    "dfpref['Percentage Used'] = round(((dfpref['Unique Votes']/dfpref['nPr'])*100), 5)\n",
    "\n",
    "# displaying the dataframe\n",
    "display(dfpref)"
   ]
  },
  {
   "cell_type": "code",
   "execution_count": null,
   "metadata": {},
   "outputs": [],
   "source": [
    "#just checking \n",
    "print(sum(mval.values))"
   ]
  },
  {
   "cell_type": "markdown",
   "metadata": {},
   "source": [
    "## Import in Political Compass data for Irish Parties"
   ]
  },
  {
   "cell_type": "code",
   "execution_count": null,
   "metadata": {},
   "outputs": [],
   "source": [
    "#download compass data positioning irish political parties on the political spectrum\n",
    "pcData='../data/pc.csv'\n",
    "\n",
    "#set column names\n",
    "col_names = ['party', 'xaxis', 'yaxis']\n",
    "#read in political compass data\n",
    "dfPC = pd.read_csv(pcData, na_values=[\"Missing\"], names=col_names)\n",
    "print(\"Irish Parties on Political Compass\")\n",
    "print(dfPC)\n",
    "points=[]\n",
    "points = dfPC.party\n",
    "x=[] #x-axis coordinates\n",
    "y=[] #y-axis coordinates\n",
    "pt=[]\n",
    "\n",
    "#populate two lists with the x and y - coordinates\n",
    "for p in points:\n",
    "    pt.append(dfPC.party)\n",
    "    x.append(dfPC.xaxis)\n",
    "    y.append(dfPC.yaxis)"
   ]
  },
  {
   "cell_type": "code",
   "execution_count": null,
   "metadata": {},
   "outputs": [],
   "source": [
    "# get the party initials (1 characters) from the column names i.e. remove .1 .2 L Retc\n",
    "#print(df.columns)\n",
    "partiesList= list(df.columns)\n",
    "del partiesList[-1]\n",
    "print(partiesList)\n",
    "partiesList2=[]\n",
    "for pl in partiesList:\n",
    "    #print(pl[:2] )\n",
    "    partiesList2.append(pl[:2])\n",
    "print(partiesList2)"
   ]
  },
  {
   "cell_type": "code",
   "execution_count": null,
   "metadata": {},
   "outputs": [],
   "source": [
    "def getEuclidVoteDetails(voteRow, dfPC):\n",
    "    #populate 3 lists with text, x co-ord and y co-ord\n",
    "    partyPCList = dfPC.party.tolist()\n",
    "   # print(\"partyList\",partyPCList)\n",
    "    xi=[]\n",
    "    yi=[]\n",
    "    pp=[]\n",
    "    for d in voteRow:\n",
    "        inx=partyPCList.index(d)\n",
    "        pp.append(dfPC.iloc[inx].tolist()[0])\n",
    "        xi.append(dfPC.iloc[inx].tolist()[1])\n",
    "        yi.append(dfPC.iloc[inx].tolist()[2])\n",
    "\n",
    "   # for ip in range(len(pp)):\n",
    "   #     print(f\"{ip+1} - {pp[ip]} ({xi[ip]}, {yi[ip]})\")\n",
    "\n",
    "    #Calculate the eculidean distance a vote travels on the political spectrum\n",
    "    dist = 0\n",
    "    total_dist=0\n",
    "    for pl in range(len(pp)):\n",
    "    # initializing points in # numpy arrays      \n",
    "        if pl != (len(pp)-1):\n",
    "            point1 = np.array((xi[pl],yi[pl]))\n",
    "            point2 = np.array((xi[pl+1],yi[pl+1]))\n",
    "\n",
    "    #calculating Euclidean distance # using linalg.norm()\n",
    "            dist = np.linalg.norm(point1 - point2)\n",
    "            #print(f\"Euclidean distance between vote {pl+1} and {pl+2} is {dist}\")\n",
    "            total_dist = total_dist + dist\n",
    " #   print(total_dist, len(pp))\n",
    "    if len(pp) > 1:\n",
    "        avg_dist = total_dist/(len(pp)-1)    \n",
    "    else:\n",
    "        avg_dist = total_dist\n",
    "    #print(\"Total Distance Travelled on Political Compass as a vote transfers \", total_dist)\n",
    "    #print(\"Average Distance Travelled on Political Compass of each vote transfers \", avg_dist)\n",
    "\n",
    "    return(total_dist, avg_dist)"
   ]
  },
  {
   "cell_type": "code",
   "execution_count": null,
   "metadata": {},
   "outputs": [],
   "source": [
    "def getVotesParty(voterow, partieslegend):\n",
    "    #convert a vote row into parties initials\n",
    "    voteP=[]\n",
    "    for v in range(len(voterow)):\n",
    "        for w in range(len(voterow)):\n",
    "            if voterow[w] == v+1:\n",
    "                voteP.append(partieslegend[w])\n",
    "    return(voteP)"
   ]
  },
  {
   "cell_type": "code",
   "execution_count": null,
   "metadata": {},
   "outputs": [],
   "source": [
    "#calculate the euclidean distance for all rows\n",
    "EuclidDist = []\n",
    "AvgEucDist =[]\n",
    "for dft5 in range(len(df)):\n",
    "    print(dft5)\n",
    "    dftR = list(df.iloc[dft5])\n",
    "    del dftR[-1]\n",
    "    #print(\"Call get Votes for Party in row\")\n",
    "    votePList=getVotesParty(dftR, partiesList2)\n",
    "    #print(votePList)\n",
    "    (tD, aD) = getEuclidVoteDetails(votePList, dfPC)\n",
    "    #print(tD, aD)\n",
    "    EuclidDist.append(tD)\n",
    "    AvgEucDist.append(aD)\n",
    "    \n",
    "print(EuclidDist)\n",
    "print(AvgEucDist)\n",
    "print(type(EuclidDist))\n",
    "df['Euclid Dist'] = np.array(EuclidDist)\n",
    "df['Avg. Euc. Dist'] = np.array(AvgEucDist)\n",
    "display(df.tail(10))\n"
   ]
  },
  {
   "cell_type": "code",
   "execution_count": null,
   "metadata": {},
   "outputs": [],
   "source": [
    "# calculate the avg, mean median min and max of the euclidean distance for each preference \n",
    "dfeucmean =  df.groupby('maxValues')['Euclid Dist'].mean()\n",
    "dfeucmedian =  df.groupby('maxValues')['Euclid Dist'].median()\n",
    "#dfeucmode =  df.groupby('maxValues')['Euclid Dist'].mode() # no mode"
   ]
  },
  {
   "cell_type": "code",
   "execution_count": null,
   "metadata": {},
   "outputs": [],
   "source": [
    "dfeucmin =  df.groupby('maxValues')['Euclid Dist'].min()\n",
    "dfeucmax =  df.groupby('maxValues')['Euclid Dist'].max()"
   ]
  },
  {
   "cell_type": "code",
   "execution_count": null,
   "metadata": {},
   "outputs": [],
   "source": [
    "#convert list to numpy array since lists seem to add at row 1 not 0\n",
    "dfpref['Euc Mean'] = np.array(dfeucmean)\n",
    "dfpref['Euc Median'] = np.array(dfeucmedian)\n",
    "dfpref['Euc Min']  = np.array(dfeucmin)\n",
    "dfpref['Euc Max']  = np.array(dfeucmax)"
   ]
  },
  {
   "cell_type": "markdown",
   "metadata": {},
   "source": [
    "## Display the Statistics Table of the Vote"
   ]
  },
  {
   "cell_type": "code",
   "execution_count": null,
   "metadata": {},
   "outputs": [],
   "source": [
    "# displaying the dataframe\n",
    "display(dfpref)"
   ]
  },
  {
   "cell_type": "code",
   "execution_count": null,
   "metadata": {},
   "outputs": [],
   "source": []
  }
 ],
 "metadata": {
  "kernelspec": {
   "display_name": "Python 3",
   "language": "python",
   "name": "python3"
  },
  "language_info": {
   "codemirror_mode": {
    "name": "ipython",
    "version": 3
   },
   "file_extension": ".py",
   "mimetype": "text/x-python",
   "name": "python",
   "nbconvert_exporter": "python",
   "pygments_lexer": "ipython3",
   "version": "3.8.5"
  }
 },
 "nbformat": 4,
 "nbformat_minor": 4
}
