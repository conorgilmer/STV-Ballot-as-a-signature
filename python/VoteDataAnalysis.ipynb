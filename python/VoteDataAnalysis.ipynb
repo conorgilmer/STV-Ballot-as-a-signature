{
 "cells": [
  {
   "cell_type": "code",
   "execution_count": 12,
   "metadata": {
    "scrolled": true
   },
   "outputs": [
    {
     "name": "stdout",
     "output_type": "stream",
     "text": [
      "Print Data Frame (df)\n",
      "       Unnamed: 0   GP   LB   FF   SP  FF.1   SF   PD   NP   FG\n",
      "0               1  NaN  4.0  NaN  3.0   NaN  NaN  1.0  5.0  2.0\n",
      "1               2  NaN  NaN  2.0  NaN   1.0  4.0  3.0  NaN  NaN\n",
      "2               3  NaN  NaN  3.0  NaN   1.0  NaN  2.0  NaN  NaN\n",
      "3               4  NaN  2.0  NaN  NaN   NaN  NaN  3.0  NaN  1.0\n",
      "4               5  NaN  2.0  1.0  NaN   NaN  NaN  NaN  NaN  NaN\n",
      "...           ...  ...  ...  ...  ...   ...  ...  ...  ...  ...\n",
      "29983       29984  4.0  2.0  NaN  5.0   NaN  NaN  3.0  NaN  1.0\n",
      "29984       29985  NaN  1.0  5.0  NaN   3.0  NaN  4.0  NaN  2.0\n",
      "29985       29986  9.0  3.0  5.0  2.0   6.0  4.0  7.0  8.0  1.0\n",
      "29986       29987  6.0  5.0  2.0  NaN   1.0  NaN  4.0  NaN  3.0\n",
      "29987       29988  3.0  4.0  NaN  NaN   1.0  NaN  NaN  NaN  2.0\n",
      "\n",
      "[29988 rows x 10 columns]\n",
      "Print Column names\n",
      "Index(['Unnamed: 0', 'GP', 'LB', 'FF', 'SP', 'FF.1', 'SF', 'PD', 'NP', 'FG'], dtype='object')\n"
     ]
    }
   ],
   "source": [
    "#read vote data from csv\n",
    "import matplotlib.pyplot as plt\n",
    "import numpy as np\n",
    "import pandas as pd\n",
    "import math \n",
    "\n",
    "%matplotlib inline\n",
    "\n",
    "#input file\n",
    "constituency=\"DublinWest2002\"\n",
    "my_csv='../data/'+constituency+'.csv'\n",
    "#my_csv ='../data/Meath2002.csv'\n",
    "#my_csv ='../data/DublinNorth2002.csv'\n",
    "#my_csv ='../data/DublinWest2002.csv'\n",
    "\n",
    "#read in data (setting 1st row as header)\n",
    "df = pd.read_csv(my_csv, na_values=[\"Missing\"], header=[0])\n",
    "\n",
    "#set column names as first line\n",
    "df.head()\n",
    "print(\"Print Data Frame (df)\")\n",
    "print(df)\n",
    "print(\"Print Column names\")\n",
    "print(df.columns)\n",
    "\n",
    "#drop the numbers column (#df=df.drop(['No.'], 1))\n",
    "df = df.drop(df.columns[[0]], axis=1)  # df.columns is zero-based pd.Index\n",
    "#reset index to start a 1 and not 0\n",
    "df.index = df.index + 1"
   ]
  },
  {
   "cell_type": "markdown",
   "metadata": {},
   "source": [
    "# Statistics on election - candidates and votes"
   ]
  },
  {
   "cell_type": "code",
   "execution_count": 13,
   "metadata": {},
   "outputs": [
    {
     "name": "stdout",
     "output_type": "stream",
     "text": [
      "Statistics on Dataframe\n",
      "No. of Candidates =  9\n",
      "No. of Votes =  29988\n",
      "No. of all possible Combinations (candidates)! =  362880\n"
     ]
    }
   ],
   "source": [
    "#Stats No. of Candidates(columns) and Votes(rows), all combinations of candidates = candidates!\n",
    "print(\"Statistics on Dataframe\")\n",
    "candidates = len(df.columns)\n",
    "print(\"No. of Candidates = \", candidates)\n",
    "votes = len(df.index)\n",
    "print(\"No. of Votes = \", votes)\n",
    "print(\"No. of all possible Combinations (candidates)! = \", math.factorial(candidates))"
   ]
  },
  {
   "cell_type": "markdown",
   "metadata": {},
   "source": [
    "## Additional Statistics on Actual Vote Data"
   ]
  },
  {
   "cell_type": "code",
   "execution_count": 14,
   "metadata": {},
   "outputs": [
    {
     "name": "stdout",
     "output_type": "stream",
     "text": [
      "Average(Mean) value = 4.425970388155262\n",
      "Mode(most often number of votes cast = 3.0\n",
      "Middle value of votes cast = 4.0\n"
     ]
    }
   ],
   "source": [
    "import statistics as stats\n",
    "df.head()\n",
    "#print(df.describe())\n",
    "df.max()\n",
    "# find the maximum values of each row (the highest vote preference cast)\n",
    "maxValues = df.max(axis = 1)\n",
    "#print(maxValues)\n",
    "#mean - average \n",
    "print(f\"Average(Mean) value = {stats.mean(maxValues)}\")\n",
    "#mode - most frequent occuring value\n",
    "print(f\"Mode(most often number of votes cast = {stats.mode(maxValues)}\")\n",
    "#median - middle value\n",
    "print(f\"Middle value of votes cast = {stats.median(maxValues)}\")\n"
   ]
  },
  {
   "cell_type": "markdown",
   "metadata": {},
   "source": [
    "## Calculate maximum values (number of preferences) for each vote(row)"
   ]
  },
  {
   "cell_type": "code",
   "execution_count": 15,
   "metadata": {},
   "outputs": [],
   "source": [
    "#add a column of the maximum count of the rows(highest preference vote cast)\n",
    "df['maxValues'] = df.max(axis = 1)"
   ]
  },
  {
   "cell_type": "code",
   "execution_count": 16,
   "metadata": {
    "scrolled": true
   },
   "outputs": [
    {
     "name": "stdout",
     "output_type": "stream",
     "text": [
      "[1743 3243 8753 5157 3389 1866 1027 1010 3800]\n",
      "Float64Index([1.0, 2.0, 3.0, 4.0, 5.0, 6.0, 7.0, 8.0, 9.0], dtype='float64')\n"
     ]
    }
   ],
   "source": [
    "mval=(df['maxValues'].value_counts())\n",
    "mval.sort_index(ascending=True, inplace=True)\n",
    "print(mval.values)\n",
    "print(mval.index)"
   ]
  },
  {
   "cell_type": "markdown",
   "metadata": {},
   "source": [
    "# Plot Histogram of the number of transfers a voter casts"
   ]
  },
  {
   "cell_type": "code",
   "execution_count": 17,
   "metadata": {},
   "outputs": [
    {
     "name": "stdout",
     "output_type": "stream",
     "text": [
      "Float64Index([1.0, 2.0, 3.0, 4.0, 5.0, 6.0, 7.0, 8.0, 9.0], dtype='float64')\n",
      "[1743 3243 8753 5157 3389 1866 1027 1010 3800]\n",
      "[0 1 2 3 4 5 6 7 8]\n"
     ]
    },
    {
     "data": {
      "image/png": "[encoded data removed]",
      "text/plain": [
       "<Figure size 432x288 with 1 Axes>"
      ]
     },
     "metadata": {
      "needs_background": "light"
     },
     "output_type": "display_data"
    }
   ],
   "source": [
    "from collections import Counter\n",
    "import numpy as np\n",
    "import matplotlib.pyplot as plt\n",
    "\n",
    "#counts = Counter(word_list)\n",
    "#labels, values = zip(*counts.items())\n",
    "# sort your values in descending order\n",
    "#indSort = np.argsort(values)[::-1]\n",
    "\n",
    "# rearrange your data\n",
    "labels=mval.index\n",
    "values=mval.values\n",
    "indexes = np.arange(len(labels))\n",
    "print(labels)\n",
    "print(values)\n",
    "print(indexes)\n",
    "\n",
    "bar_width = 0.35\n",
    "\n",
    "# Add title and axis names\n",
    "plt.title(constituency+' - Preference votes cast')\n",
    "plt.xlabel('Preferences')\n",
    "plt.ylabel('votes')\n",
    "\n",
    "plt.bar(indexes, values)\n",
    "\n",
    "# add labels\n",
    "plt.xticks(indexes + bar_width, labels)\n",
    "\n",
    "\n",
    "# Save the histogram\n",
    "plt.savefig('../images/'+constituency+'hist.png')\n",
    "\n",
    "#show histogram\n",
    "plt.show()"
   ]
  },
  {
   "cell_type": "markdown",
   "metadata": {},
   "source": [
    "## Print number of preferences cast, and calculate percentage"
   ]
  },
  {
   "cell_type": "code",
   "execution_count": 18,
   "metadata": {},
   "outputs": [
    {
     "name": "stdout",
     "output_type": "stream",
     "text": [
      "[0 1 2 3 4 5 6 7 8]\n",
      "[1743 3243 8753 5157 3389 1866 1027 1010 3800]\n",
      "29988\n"
     ]
    },
    {
     "data": {
      "text/html": [
       "<div>\n",
       "<style scoped>\n",
       "    .dataframe tbody tr th:only-of-type {\n",
       "        vertical-align: middle;\n",
       "    }\n",
       "\n",
       "    .dataframe tbody tr th {\n",
       "        vertical-align: top;\n",
       "    }\n",
       "\n",
       "    .dataframe thead th {\n",
       "        text-align: right;\n",
       "    }\n",
       "</style>\n",
       "<table border=\"1\" class=\"dataframe\">\n",
       "  <thead>\n",
       "    <tr style=\"text-align: right;\">\n",
       "      <th></th>\n",
       "      <th>Pref. No.</th>\n",
       "      <th>Votes</th>\n",
       "      <th>Percentage</th>\n",
       "    </tr>\n",
       "  </thead>\n",
       "  <tbody>\n",
       "    <tr>\n",
       "      <th>0</th>\n",
       "      <td>1.0</td>\n",
       "      <td>1743</td>\n",
       "      <td>5.8</td>\n",
       "    </tr>\n",
       "    <tr>\n",
       "      <th>1</th>\n",
       "      <td>2.0</td>\n",
       "      <td>3243</td>\n",
       "      <td>10.8</td>\n",
       "    </tr>\n",
       "    <tr>\n",
       "      <th>2</th>\n",
       "      <td>3.0</td>\n",
       "      <td>8753</td>\n",
       "      <td>29.2</td>\n",
       "    </tr>\n",
       "    <tr>\n",
       "      <th>3</th>\n",
       "      <td>4.0</td>\n",
       "      <td>5157</td>\n",
       "      <td>17.2</td>\n",
       "    </tr>\n",
       "    <tr>\n",
       "      <th>4</th>\n",
       "      <td>5.0</td>\n",
       "      <td>3389</td>\n",
       "      <td>11.3</td>\n",
       "    </tr>\n",
       "    <tr>\n",
       "      <th>5</th>\n",
       "      <td>6.0</td>\n",
       "      <td>1866</td>\n",
       "      <td>6.2</td>\n",
       "    </tr>\n",
       "    <tr>\n",
       "      <th>6</th>\n",
       "      <td>7.0</td>\n",
       "      <td>1027</td>\n",
       "      <td>3.4</td>\n",
       "    </tr>\n",
       "    <tr>\n",
       "      <th>7</th>\n",
       "      <td>8.0</td>\n",
       "      <td>1010</td>\n",
       "      <td>3.4</td>\n",
       "    </tr>\n",
       "    <tr>\n",
       "      <th>8</th>\n",
       "      <td>9.0</td>\n",
       "      <td>3800</td>\n",
       "      <td>12.7</td>\n",
       "    </tr>\n",
       "  </tbody>\n",
       "</table>\n",
       "</div>"
      ],
      "text/plain": [
       "   Pref. No.  Votes  Percentage\n",
       "0        1.0   1743         5.8\n",
       "1        2.0   3243        10.8\n",
       "2        3.0   8753        29.2\n",
       "3        4.0   5157        17.2\n",
       "4        5.0   3389        11.3\n",
       "5        6.0   1866         6.2\n",
       "6        7.0   1027         3.4\n",
       "7        8.0   1010         3.4\n",
       "8        9.0   3800        12.7"
      ]
     },
     "metadata": {},
     "output_type": "display_data"
    }
   ],
   "source": [
    "print(indexes)\n",
    "print(values)\n",
    "type(values)\n",
    "print(values.sum())\n",
    "\n",
    "# creating the dataframe from dictionary\n",
    "d={\"Pref. No.\": labels, \"Votes\": values}    \n",
    "dfpref = pd.DataFrame(d)\n",
    "votz = dfpref.Votes.sum()  \n",
    "dfpref['Percentage'] = round(((dfpref['Votes']/votz)*100), 1)\n",
    "# displaying the dataframe\n",
    "display(dfpref)"
   ]
  },
  {
   "cell_type": "markdown",
   "metadata": {},
   "source": [
    "# Calculate number of duplicated vote sequences"
   ]
  },
  {
   "cell_type": "code",
   "execution_count": 19,
   "metadata": {},
   "outputs": [
    {
     "name": "stdout",
     "output_type": "stream",
     "text": [
      "10335\n",
      "True     19653\n",
      "False    10335\n",
      "dtype: int64\n"
     ]
    }
   ],
   "source": [
    "print((~df.duplicated()).sum())\n",
    "print(df.duplicated(keep='last').value_counts())"
   ]
  },
  {
   "cell_type": "code",
   "execution_count": 20,
   "metadata": {},
   "outputs": [],
   "source": [
    "#drop all dublicate rows keeping last one\n",
    "df.drop_duplicates(keep='last', inplace=True, subset=df.columns.difference(['maxValues']))"
   ]
  },
  {
   "cell_type": "code",
   "execution_count": null,
   "metadata": {},
   "outputs": [],
   "source": [
    "#print the number of votes, and the number of unique votes\n",
    "print(f\"Number of votes {votes}\")\n",
    "print(f\"Number of unique vote patterns (after removing duplicates) {len(df)}\")"
   ]
  },
  {
   "cell_type": "markdown",
   "metadata": {},
   "source": [
    "# Generate Random Sequences"
   ]
  },
  {
   "cell_type": "code",
   "execution_count": null,
   "metadata": {},
   "outputs": [],
   "source": [
    "#generate random sequences which could be possible vote combinations\n",
    "from itertools import permutations\n",
    "import pandas as pd\n",
    "import math \n",
    "#lst 1 to n\n",
    "candidates =10\n",
    "listAllCombinations = list(range(1,candidates+1))\n",
    "allCombinations = list(permutations(listAllCombinations))\n",
    "#print(\"All Combinations (candidates)!\",len(allCombinations))\n",
    "#print(\"All Combinations (candidates)!\",math.factorial(candidates))\n",
    "print(allCombinations)\n",
    "dfallCombinations = pd.DataFrame(allCombinations)\n",
    "#display(dfallCombinations)"
   ]
  },
  {
   "cell_type": "code",
   "execution_count": null,
   "metadata": {},
   "outputs": [],
   "source": [
    "#remove regular(actual vote transfers form all combinations)"
   ]
  },
  {
   "cell_type": "code",
   "execution_count": null,
   "metadata": {},
   "outputs": [],
   "source": [
    "#remove possible regular votes - logical party couplets or triplets in sequence"
   ]
  },
  {
   "cell_type": "code",
   "execution_count": null,
   "metadata": {},
   "outputs": [],
   "source": [
    "#create irregular list and dataframe\n",
    "irrList =[]\n",
    "newrow1 =[4,5,6,3,2,1]\n",
    "irrList.append(newrow1)\n",
    "newrow2 =[6,5,4,3,2,1]\n",
    "irrList.append(newrow2)\n",
    "\n",
    "#make dataframe from list\n",
    "dfIrreg = pd.DataFrame(irrList)\n",
    "dfIrreg.columns=df.columns\n",
    "display(dfIrreg)\n",
    "#set all columns as \"I\" Irregular\n",
    "dfIrreg['Type']='I'\n",
    "\n",
    "#set all columns as \"R\" Regular\n",
    "df['Type']='R'\n",
    "print(\"Print Data Frame (df) with Type column\")\n",
    "print(df)"
   ]
  },
  {
   "cell_type": "code",
   "execution_count": null,
   "metadata": {},
   "outputs": [],
   "source": [
    "#Merge Regular and Irregular DataFrames and write to file\n",
    "# merge two data frames\n",
    "print('After merging:')\n",
    "#pd.concat([df, dfIrreg], axis=0)\n",
    "df= df.append(dfIrreg, ignore_index=True)\n",
    "#reset index\n",
    "df.index= df.index+1\n",
    "display(df)\n",
    "\n",
    "#write to csv file\n",
    "df.to_csv('../data/output.csv')"
   ]
  },
  {
   "cell_type": "code",
   "execution_count": null,
   "metadata": {},
   "outputs": [],
   "source": [
    "from itertools import permutations\n",
    "import pandas as pd\n",
    "import math \n",
    "#lst 1 to n\n",
    "candidates = 8\n",
    "listAllCombinations = list(range(1,candidates+1))\n",
    "allCombinations = list(permutations(listAllCombinations))\n",
    "print(\"All Combinations (candidates)!\",len(allCombinations))\n",
    "print(\"All Combinations (candidates)!\",math.factorial(5))\n",
    "print(allCombinations)\n",
    "dfallCombinations = pd.DataFrame(allCombinations)\n",
    "display(dfallCombinations)"
   ]
  },
  {
   "cell_type": "code",
   "execution_count": null,
   "metadata": {},
   "outputs": [],
   "source": [
    "import numpy as np\n",
    "first_list = [12, 13, 14, 12]\n",
    "sec_list   = [12, 13, 14, 12]\n",
    "\n",
    "result = np.array_equal(np.array(first_list), np.array(sec_list))\n",
    "if result:\n",
    "    print('Lists are equal i.e. contain similar elements with same frequency')\n",
    "else:\n",
    "    print('Lists are not equal')"
   ]
  },
  {
   "cell_type": "code",
   "execution_count": null,
   "metadata": {},
   "outputs": [],
   "source": [
    "#how many permutations P(n,r)=n!/(n-r)!\n",
    "import math\n",
    "n=10 #number of candidates\n",
    "r=3 #number of votes/preferences cast by a voter\n",
    "math.factorial(n)\n",
    "P = (math.factorial(n)/math.factorial(n-r))\n",
    "print(f\"Permutations - P(n,r) = P({n},{r}) = {int(P)}\")"
   ]
  },
  {
   "cell_type": "code",
   "execution_count": null,
   "metadata": {},
   "outputs": [],
   "source": [
    "#permutations P(n,r)=n!/(n-r)!\n",
    "from itertools import permutations \n",
    "\n",
    "#generate a list of numbers 1 to n (number of candidates)\n",
    "n=14\n",
    "nList = list(range(1,n+1))\n",
    "print(nList)\n",
    "\n",
    "#the number of numbers r to be generated in a permutation(number of preferences cast)\n",
    "r=8\n",
    "#generate r permutations of the values in nlist\n",
    "p = permutations(nList,r) \n",
    "\n",
    "# Print the obtained permutations \n",
    "for j in list(p): \n",
    "    print(j) "
   ]
  },
  {
   "cell_type": "code",
   "execution_count": null,
   "metadata": {},
   "outputs": [],
   "source": [
    "#select a random number of permutations\n",
    "p = permutations(nList,r) \n",
    "\n",
    "dfp=pd.DataFrame(list(p))\n",
    "#print(dfp)\n",
    "#print(dfp.sample(n=12))"
   ]
  },
  {
   "cell_type": "code",
   "execution_count": null,
   "metadata": {},
   "outputs": [],
   "source": [
    "p = permutations(nList,r) \n",
    "an_array = np.empty(n)\n",
    "an_array[:] = np.NaN\n",
    "print(an_array)\n",
    "for s in list(p):\n",
    "    u=1\n",
    "    for t in list(s):\n",
    "        print(t)\n",
    "        an_array[t-1]=u\n",
    "        u=u+1\n",
    "        \n",
    "print(an_array)\n",
    "        \n",
    "\n",
    "\n"
   ]
  },
  {
   "cell_type": "code",
   "execution_count": null,
   "metadata": {},
   "outputs": [],
   "source": [
    "p = permutations(nList,r)\n",
    "print(df.columns)\n",
    "# Drop last column of a dataframe\n",
    "df = df.iloc[: , :-1]\n",
    "print(df.columns)\n",
    "an_array = np.empty(n)\n",
    "an_array[:] = np.NaN\n",
    "print(an_array)\n",
    "dfp=pd.DataFrame(columns=df.columns)\n",
    "for s in list(p):\n",
    "    larray =np.array(s)        \n",
    "    print(larray)\n",
    "    z=1\n",
    "    an_array[:] = np.NaN\n",
    "    for y in larray:\n",
    "        an_array[y-1]=z\n",
    "        z=z+1\n",
    "    print(an_array)\n",
    "    dfp.append(an_array)\n",
    "        "
   ]
  },
  {
   "cell_type": "code",
   "execution_count": null,
   "metadata": {},
   "outputs": [],
   "source": [
    "dfpp=dfp.sample(n=1)[:1]\n",
    "print(dfpp)"
   ]
  },
  {
   "cell_type": "code",
   "execution_count": null,
   "metadata": {},
   "outputs": [],
   "source": [
    "dft= pd.DataFrame()\n",
    "dft=df.tail()\n",
    "print(dft.columns)\n",
    "partiesList= list(dft.columns)\n",
    "del partiesList[-1]\n",
    "print(partiesList)\n",
    "\n"
   ]
  },
  {
   "cell_type": "code",
   "execution_count": null,
   "metadata": {},
   "outputs": [],
   "source": [
    "partiesList2=[]\n",
    "for pl in partiesList:\n",
    "    #print(pl[:2] )\n",
    "    partiesList2.append(pl[:2])\n",
    "print(partiesList2)"
   ]
  },
  {
   "cell_type": "code",
   "execution_count": null,
   "metadata": {},
   "outputs": [],
   "source": [
    "#download compass data positioning irish political parties on the political spectrum\n",
    "indata='../data/pc.csv'\n",
    "\n",
    "#set column names\n",
    "col_names = ['party', 'xaxis', 'yaxis']\n",
    "#read in data\n",
    "df = pd.read_csv(indata, na_values=[\"Missing\"], names=col_names)\n",
    "print(\"Irish Parties on Political Compass\")\n",
    "print(df)\n",
    "points=[]\n",
    "points = df.party\n",
    "x=[] #x-axis coordinates\n",
    "y=[] #y-axis coordinates\n",
    "pt=[]\n",
    "\n",
    "#populate two lists with the x and y - coordinates\n",
    "for p in points:\n",
    "    pt.append(df.party)\n",
    "    x.append(df.xaxis)\n",
    "    y.append(df.yaxis)"
   ]
  },
  {
   "cell_type": "code",
   "execution_count": null,
   "metadata": {},
   "outputs": [],
   "source": [
    "print(partiesList2)\n",
    "result = []\n",
    "print(len(dft))\n",
    "dft.drop(dft.columns[len(dft.columns)-1], axis=1, inplace=True)\n",
    "\n",
    "for i in range(len(dft)):\n",
    "    row = list(dft.iloc[i])\n",
    "    #print(np.nanmax(row))\n",
    "    #print(f\"{row}\")\n",
    "    resultRow=[]\n",
    "    for i in range(1,int(np.nanmax(row))+1):\n",
    "        vidx=row.index(float(i))\n",
    "        resultRow.append(partiesList2[vidx])\n",
    "    print(resultRow)\n",
    "    result.append(resultRow)"
   ]
  },
  {
   "cell_type": "code",
   "execution_count": null,
   "metadata": {},
   "outputs": [],
   "source": [
    "print(result)\n",
    "print(df.party)"
   ]
  },
  {
   "cell_type": "code",
   "execution_count": null,
   "metadata": {},
   "outputs": [],
   "source": [
    "#Irregular Vote\n",
    "#dVote= ['NP', 'SP', 'LB', 'SF', 'FF', 'GP', 'FG']\n",
    "#Regular Vote\n",
    "dVote =['FG','FG','FF', 'GP']\n",
    "\n",
    "#populate 3 lists with text, x co-ord and y co-ord\n",
    "dfi = df.party.tolist()\n",
    "print(\"dfi\",dfi)\n",
    "xi=[]\n",
    "yi=[]\n",
    "pp=[]\n",
    "for d in dVote:\n",
    "    inx=dfi.index(d)\n",
    "    pp.append(df.iloc[inx].tolist()[0])\n",
    "    xi.append(df.iloc[inx].tolist()[1])\n",
    "    yi.append(df.iloc[inx].tolist()[2])\n",
    "#print(df.iloc[inx].tolist()[2])\n",
    "for ip in range(len(pp)):\n",
    "    print(f\"{ip+1} - {pp[ip]} ({xi[ip]}, {yi[ip]})\")\n",
    "\n",
    "\n",
    "\n",
    "#Calculate the eculidean distance a vote travels on the political spectrum\n",
    "dist = 0\n",
    "total_dist=0\n",
    "for pl in range(len(pp)):\n",
    "# initializing points in\n",
    "# numpy arrays      \n",
    "    if pl != (len(pp)-1):\n",
    "        point1 = np.array((xi[pl],yi[pl]))\n",
    "        point2 = np.array((xi[pl+1],yi[pl+1]))\n",
    "\n",
    "#calculating Euclidean distance\n",
    "# using linalg.norm()\n",
    "        dist = np.linalg.norm(point1 - point2)\n",
    "        print(f\"Euclidean distance between vote {pl+1} and {pl+2} is {dist}\")\n",
    "        total_dist = total_dist + dist\n",
    "        \n",
    "avg_dist = total_dist/(len(pp)-1)    \n",
    "print(\"Total Distance Travelled on Political Compass as a vote transfers \", total_dist)\n",
    "print(\"Average Distance Travelled on Political Compass of each vote transfers \", avg_dist)\n"
   ]
  },
  {
   "cell_type": "code",
   "execution_count": null,
   "metadata": {},
   "outputs": [],
   "source": []
  }
 ],
 "metadata": {
  "kernelspec": {
   "display_name": "Python 3",
   "language": "python",
   "name": "python3"
  },
  "language_info": {
   "codemirror_mode": {
    "name": "ipython",
    "version": 3
   },
   "file_extension": ".py",
   "mimetype": "text/x-python",
   "name": "python",
   "nbconvert_exporter": "python",
   "pygments_lexer": "ipython3",
   "version": "3.8.5"
  }
 },
 "nbformat": 4,
 "nbformat_minor": 4
}
