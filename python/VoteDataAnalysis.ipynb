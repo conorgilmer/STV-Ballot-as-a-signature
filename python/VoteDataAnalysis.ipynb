{
 "cells": [
  {
   "cell_type": "markdown",
   "metadata": {},
   "source": [
    "# Vote Data Analysis from 2002 Irish General Election e-voting trial"
   ]
  },
  {
   "cell_type": "code",
   "execution_count": 58,
   "metadata": {
    "scrolled": true
   },
   "outputs": [
    {
     "name": "stdout",
     "output_type": "stream",
     "text": [
      "Print Data Frame (df)\n",
      "         No.   FF   FG   NP  FF.1  FG.1  FG.2  NPL  NP.1  NP.2    GP   NPR  \\\n",
      "0          1  NaN  NaN  NaN   3.0   2.0   NaN  NaN   NaN   NaN   1.0   NaN   \n",
      "1          2  NaN  2.0  NaN   NaN   3.0   NaN  1.0   NaN   NaN   NaN   NaN   \n",
      "2          3  NaN  1.0  8.0   NaN   2.0   3.0  7.0   6.0   5.0   4.0   NaN   \n",
      "3          4  1.0  4.0  7.0   2.0   5.0   8.0  9.0  10.0  11.0  12.0  13.0   \n",
      "4          5  NaN  4.0  NaN   NaN   1.0   3.0  5.0   NaN   6.0   NaN   NaN   \n",
      "...      ...  ...  ...  ...   ...   ...   ...  ...   ...   ...   ...   ...   \n",
      "64076  64077  NaN  NaN  NaN   2.0   1.0   NaN  NaN   NaN   NaN   3.0   NaN   \n",
      "64077  64078  NaN  3.0  7.0   NaN   1.0   4.0  2.0   8.0   6.0   NaN   NaN   \n",
      "64078  64079  1.0  NaN  NaN   NaN   NaN   NaN  NaN   NaN   NaN   NaN   NaN   \n",
      "64079  64080  1.0  2.0  NaN   NaN   NaN   NaN  NaN   NaN   NaN   NaN   NaN   \n",
      "64080  64081  2.0  NaN  NaN   NaN   NaN   1.0  NaN   NaN   NaN   NaN   NaN   \n",
      "\n",
      "         SF  FF.2   LB  \n",
      "0       NaN   NaN  NaN  \n",
      "1       NaN   4.0  NaN  \n",
      "2       NaN   NaN  NaN  \n",
      "3      14.0   3.0  6.0  \n",
      "4       NaN   NaN  2.0  \n",
      "...     ...   ...  ...  \n",
      "64076   NaN   4.0  5.0  \n",
      "64077   NaN   5.0  NaN  \n",
      "64078   NaN   NaN  NaN  \n",
      "64079   3.0   NaN  NaN  \n",
      "64080   NaN   NaN  NaN  \n",
      "\n",
      "[64081 rows x 15 columns]\n",
      "Print Column names\n",
      "Index(['No.', 'FF', 'FG', 'NP', 'FF.1', 'FG.1', 'FG.2', 'NPL', 'NP.1', 'NP.2',\n",
      "       'GP', 'NPR', 'SF', 'FF.2', 'LB'],\n",
      "      dtype='object')\n"
     ]
    }
   ],
   "source": [
    "#read vote data from csv\n",
    "import matplotlib.pyplot as plt\n",
    "import numpy as np\n",
    "import pandas as pd\n",
    "import math \n",
    "\n",
    "%matplotlib inline\n",
    "\n",
    "#input file\n",
    "#constituency=\"DublinNorth2002\"\n",
    "#constituency=\"DublinWest2002\"\n",
    "constituency=\"Meath2002\"\n",
    "my_csv='../data/'+constituency+'.csv'\n",
    "#my_csv ='../data/Meath2002.csv'\n",
    "#my_csv ='../data/DublinNorth2002.csv'\n",
    "#my_csv ='../data/DublinWest2002.csv'\n",
    "\n",
    "#read in data (setting 1st row as header)\n",
    "df = pd.read_csv(my_csv, na_values=[\"Missing\"], header=[0])\n",
    "\n",
    "#set column names as first line\n",
    "df.head()\n",
    "print(\"Print Data Frame (df)\")\n",
    "print(df)\n",
    "print(\"Print Column names\")\n",
    "print(df.columns)\n",
    "\n",
    "#drop the numbers column (#df=df.drop(['No.'], 1))\n",
    "df = df.drop(df.columns[[0]], axis=1)  # df.columns is zero-based pd.Index\n",
    "#reset index to start a 1 and not 0\n",
    "df.index = df.index + 1"
   ]
  },
  {
   "cell_type": "markdown",
   "metadata": {},
   "source": [
    "# Statistics on election - candidates and votes"
   ]
  },
  {
   "cell_type": "code",
   "execution_count": 59,
   "metadata": {},
   "outputs": [
    {
     "name": "stdout",
     "output_type": "stream",
     "text": [
      "Statistics on Dataframe\n",
      "No. of Candidates =  14\n",
      "No. of Votes =  64081\n",
      "No. of all possible Combinations (candidates)! =  87178291200\n"
     ]
    }
   ],
   "source": [
    "#Stats No. of Candidates(columns) and Votes(rows), all combinations of candidates = candidates!\n",
    "print(\"Statistics on Dataframe\")\n",
    "candidates = len(df.columns)\n",
    "print(\"No. of Candidates = \", candidates)\n",
    "votes = len(df.index)\n",
    "print(\"No. of Votes = \", votes)\n",
    "print(\"No. of all possible Combinations (candidates)! = \", math.factorial(candidates))"
   ]
  },
  {
   "cell_type": "markdown",
   "metadata": {},
   "source": [
    "## Additional Statistics on Actual Vote Data"
   ]
  },
  {
   "cell_type": "code",
   "execution_count": 60,
   "metadata": {},
   "outputs": [
    {
     "name": "stdout",
     "output_type": "stream",
     "text": [
      "Average(Mean) value = 4.652018539036532\n",
      "Mode(most often number of votes cast = 3.0\n",
      "Middle value of votes cast = 4.0\n"
     ]
    }
   ],
   "source": [
    "import statistics as stats\n",
    "df.head()\n",
    "#print(df.describe())\n",
    "df.max()\n",
    "# find the maximum values of each row (the highest vote preference cast)\n",
    "maxValues = df.max(axis = 1)\n",
    "#print(maxValues)\n",
    "#mean - average \n",
    "print(f\"Average(Mean) value = {stats.mean(maxValues)}\")\n",
    "#mode - most frequent occuring value\n",
    "print(f\"Mode(most often number of votes cast = {stats.mode(maxValues)}\")\n",
    "#median - middle value\n",
    "print(f\"Middle value of votes cast = {stats.median(maxValues)}\")\n"
   ]
  },
  {
   "cell_type": "markdown",
   "metadata": {},
   "source": [
    "## Calculate maximum values (number of preferences) for each vote(row)"
   ]
  },
  {
   "cell_type": "code",
   "execution_count": 61,
   "metadata": {},
   "outputs": [],
   "source": [
    "#add a column of the maximum count of the rows(highest preference vote cast)\n",
    "df['maxValues'] = df.max(axis = 1)"
   ]
  },
  {
   "cell_type": "code",
   "execution_count": 62,
   "metadata": {
    "scrolled": true
   },
   "outputs": [
    {
     "name": "stdout",
     "output_type": "stream",
     "text": [
      "[ 3184  4250 21102 12004  8347  4866  2627  1736  1053   880   425   441\n",
      "   676  2490]\n",
      "Float64Index([1.0, 2.0, 3.0, 4.0, 5.0, 6.0, 7.0, 8.0, 9.0, 10.0, 11.0, 12.0,\n",
      "              13.0, 14.0],\n",
      "             dtype='float64')\n"
     ]
    }
   ],
   "source": [
    "mval=(df['maxValues'].value_counts())\n",
    "mval.sort_index(ascending=True, inplace=True)\n",
    "print(mval.values)\n",
    "print(mval.index)"
   ]
  },
  {
   "cell_type": "markdown",
   "metadata": {},
   "source": [
    "# Plot Histogram of the number of transfers a voter casts"
   ]
  },
  {
   "cell_type": "code",
   "execution_count": 63,
   "metadata": {
    "scrolled": true
   },
   "outputs": [
    {
     "name": "stdout",
     "output_type": "stream",
     "text": [
      "Float64Index([1.0, 2.0, 3.0, 4.0, 5.0, 6.0, 7.0, 8.0, 9.0, 10.0, 11.0, 12.0,\n",
      "              13.0, 14.0],\n",
      "             dtype='float64')\n",
      "[ 3184  4250 21102 12004  8347  4866  2627  1736  1053   880   425   441\n",
      "   676  2490]\n",
      "[ 0  1  2  3  4  5  6  7  8  9 10 11 12 13]\n"
     ]
    },
    {
     "data": {
      "image/png": "[encoded data removed]",
      "text/plain": [
       "<Figure size 432x288 with 1 Axes>"
      ]
     },
     "metadata": {
      "needs_background": "light"
     },
     "output_type": "display_data"
    }
   ],
   "source": [
    "from collections import Counter\n",
    "import numpy as np\n",
    "import matplotlib.pyplot as plt\n",
    "\n",
    "#counts = Counter(word_list)\n",
    "#labels, values = zip(*counts.items())\n",
    "# sort your values in descending order\n",
    "#indSort = np.argsort(values)[::-1]\n",
    "\n",
    "# rearrange your data\n",
    "labels=mval.index\n",
    "values=mval.values\n",
    "indexes = np.arange(len(labels))\n",
    "print(labels)\n",
    "print(values)\n",
    "print(indexes)\n",
    "\n",
    "bar_width = 0.35\n",
    "\n",
    "# Add title and axis names\n",
    "plt.title(constituency+' - Preference votes cast')\n",
    "plt.xlabel('Preferences')\n",
    "plt.ylabel('votes')\n",
    "\n",
    "plt.bar(indexes, values)\n",
    "\n",
    "# add labels\n",
    "plt.xticks(indexes + bar_width, labels)\n",
    "\n",
    "\n",
    "# Save the histogram\n",
    "plt.savefig('../images/'+constituency+'hist.png')\n",
    "\n",
    "#show histogram\n",
    "plt.show()"
   ]
  },
  {
   "cell_type": "code",
   "execution_count": 64,
   "metadata": {
    "scrolled": true
   },
   "outputs": [
    {
     "name": "stdout",
     "output_type": "stream",
     "text": [
      "[14, 182, 2184, 24024, 240240, 2162160, 17297280, 121080960, 726485760, 3632428800, 14529715200, 43589145600, 87178291200, 87178291200]\n"
     ]
    }
   ],
   "source": [
    "nPrList =[]\n",
    "for i in range(1,candidates+1):\n",
    "    nPrList.append(int(math.factorial(candidates)/(math.factorial(candidates-i))))\n",
    "print(nPrList)"
   ]
  },
  {
   "cell_type": "markdown",
   "metadata": {},
   "source": [
    "## Print number of preferences cast, and calculate percentage"
   ]
  },
  {
   "cell_type": "code",
   "execution_count": 65,
   "metadata": {},
   "outputs": [
    {
     "data": {
      "text/html": [
       "<div>\n",
       "<style scoped>\n",
       "    .dataframe tbody tr th:only-of-type {\n",
       "        vertical-align: middle;\n",
       "    }\n",
       "\n",
       "    .dataframe tbody tr th {\n",
       "        vertical-align: top;\n",
       "    }\n",
       "\n",
       "    .dataframe thead th {\n",
       "        text-align: right;\n",
       "    }\n",
       "</style>\n",
       "<table border=\"1\" class=\"dataframe\">\n",
       "  <thead>\n",
       "    <tr style=\"text-align: right;\">\n",
       "      <th></th>\n",
       "      <th>Pref</th>\n",
       "      <th>Votes</th>\n",
       "      <th>Percentage</th>\n",
       "      <th>nPr</th>\n",
       "    </tr>\n",
       "  </thead>\n",
       "  <tbody>\n",
       "    <tr>\n",
       "      <th>0</th>\n",
       "      <td>1.0</td>\n",
       "      <td>3184</td>\n",
       "      <td>5.0</td>\n",
       "      <td>14</td>\n",
       "    </tr>\n",
       "    <tr>\n",
       "      <th>1</th>\n",
       "      <td>2.0</td>\n",
       "      <td>4250</td>\n",
       "      <td>6.6</td>\n",
       "      <td>182</td>\n",
       "    </tr>\n",
       "    <tr>\n",
       "      <th>2</th>\n",
       "      <td>3.0</td>\n",
       "      <td>21102</td>\n",
       "      <td>32.9</td>\n",
       "      <td>2184</td>\n",
       "    </tr>\n",
       "    <tr>\n",
       "      <th>3</th>\n",
       "      <td>4.0</td>\n",
       "      <td>12004</td>\n",
       "      <td>18.7</td>\n",
       "      <td>24024</td>\n",
       "    </tr>\n",
       "    <tr>\n",
       "      <th>4</th>\n",
       "      <td>5.0</td>\n",
       "      <td>8347</td>\n",
       "      <td>13.0</td>\n",
       "      <td>240240</td>\n",
       "    </tr>\n",
       "    <tr>\n",
       "      <th>5</th>\n",
       "      <td>6.0</td>\n",
       "      <td>4866</td>\n",
       "      <td>7.6</td>\n",
       "      <td>2162160</td>\n",
       "    </tr>\n",
       "    <tr>\n",
       "      <th>6</th>\n",
       "      <td>7.0</td>\n",
       "      <td>2627</td>\n",
       "      <td>4.1</td>\n",
       "      <td>17297280</td>\n",
       "    </tr>\n",
       "    <tr>\n",
       "      <th>7</th>\n",
       "      <td>8.0</td>\n",
       "      <td>1736</td>\n",
       "      <td>2.7</td>\n",
       "      <td>121080960</td>\n",
       "    </tr>\n",
       "    <tr>\n",
       "      <th>8</th>\n",
       "      <td>9.0</td>\n",
       "      <td>1053</td>\n",
       "      <td>1.6</td>\n",
       "      <td>726485760</td>\n",
       "    </tr>\n",
       "    <tr>\n",
       "      <th>9</th>\n",
       "      <td>10.0</td>\n",
       "      <td>880</td>\n",
       "      <td>1.4</td>\n",
       "      <td>3632428800</td>\n",
       "    </tr>\n",
       "    <tr>\n",
       "      <th>10</th>\n",
       "      <td>11.0</td>\n",
       "      <td>425</td>\n",
       "      <td>0.7</td>\n",
       "      <td>14529715200</td>\n",
       "    </tr>\n",
       "    <tr>\n",
       "      <th>11</th>\n",
       "      <td>12.0</td>\n",
       "      <td>441</td>\n",
       "      <td>0.7</td>\n",
       "      <td>43589145600</td>\n",
       "    </tr>\n",
       "    <tr>\n",
       "      <th>12</th>\n",
       "      <td>13.0</td>\n",
       "      <td>676</td>\n",
       "      <td>1.1</td>\n",
       "      <td>87178291200</td>\n",
       "    </tr>\n",
       "    <tr>\n",
       "      <th>13</th>\n",
       "      <td>14.0</td>\n",
       "      <td>2490</td>\n",
       "      <td>3.9</td>\n",
       "      <td>87178291200</td>\n",
       "    </tr>\n",
       "  </tbody>\n",
       "</table>\n",
       "</div>"
      ],
      "text/plain": [
       "    Pref  Votes  Percentage          nPr\n",
       "0    1.0   3184         5.0           14\n",
       "1    2.0   4250         6.6          182\n",
       "2    3.0  21102        32.9         2184\n",
       "3    4.0  12004        18.7        24024\n",
       "4    5.0   8347        13.0       240240\n",
       "5    6.0   4866         7.6      2162160\n",
       "6    7.0   2627         4.1     17297280\n",
       "7    8.0   1736         2.7    121080960\n",
       "8    9.0   1053         1.6    726485760\n",
       "9   10.0    880         1.4   3632428800\n",
       "10  11.0    425         0.7  14529715200\n",
       "11  12.0    441         0.7  43589145600\n",
       "12  13.0    676         1.1  87178291200\n",
       "13  14.0   2490         3.9  87178291200"
      ]
     },
     "metadata": {},
     "output_type": "display_data"
    }
   ],
   "source": [
    "# creating the dataframe from dictionary\n",
    "d={\"Pref\": labels, \"Votes\": values}    \n",
    "dfpref = pd.DataFrame(d)\n",
    "\n",
    "#calculate percentage of preferences cast and add to dataframe\n",
    "votz = dfpref.Votes.sum()  \n",
    "dfpref['Percentage'] = round(((dfpref['Votes']/votz)*100), 1)\n",
    "\n",
    "#calculate possible nPr = n!/(n-r)! values for each preference vote\n",
    "# candidates = n. No. of pref = r\n",
    "nPrList =[]\n",
    "for i in range(1,candidates+1):\n",
    "    nPrList.append(int(math.factorial(candidates)/(math.factorial(candidates-i))))\n",
    "#add nPr to dataframe    \n",
    "dfpref['nPr'] = nPrList\n",
    "\n",
    "# displaying the dataframe\n",
    "display(dfpref)"
   ]
  },
  {
   "cell_type": "markdown",
   "metadata": {},
   "source": [
    "# Calculate number of duplicated vote sequences"
   ]
  },
  {
   "cell_type": "code",
   "execution_count": 66,
   "metadata": {},
   "outputs": [
    {
     "name": "stdout",
     "output_type": "stream",
     "text": [
      "25101\n",
      "True     38980\n",
      "False    25101\n",
      "dtype: int64\n"
     ]
    }
   ],
   "source": [
    "print((~df.duplicated()).sum())\n",
    "print(df.duplicated(keep='last').value_counts())"
   ]
  },
  {
   "cell_type": "code",
   "execution_count": 67,
   "metadata": {},
   "outputs": [],
   "source": [
    "#drop all dublicate rows keeping last one\n",
    "df.drop_duplicates(keep='last', inplace=True, subset=df.columns.difference(['maxValues']))"
   ]
  },
  {
   "cell_type": "code",
   "execution_count": 68,
   "metadata": {
    "scrolled": true
   },
   "outputs": [
    {
     "name": "stdout",
     "output_type": "stream",
     "text": [
      "Number of votes 64081\n",
      "Number of unique vote patterns (after removing duplicates) 25101\n"
     ]
    }
   ],
   "source": [
    "#print the number of votes, and the number of unique votes\n",
    "print(f\"Number of votes {votes}\")\n",
    "print(f\"Number of unique vote patterns (after removing duplicates) {len(df)}\")"
   ]
  },
  {
   "cell_type": "code",
   "execution_count": 69,
   "metadata": {},
   "outputs": [],
   "source": [
    "# after removal of duplicates\n",
    "#add a column of the maximum count of the rows(highest preference vote cast)\n",
    "df['maxValues'] = df.max(axis = 1)\n",
    "\n",
    "mval=(df['maxValues'].value_counts())\n",
    "mval.sort_index(ascending=True, inplace=True)"
   ]
  },
  {
   "cell_type": "markdown",
   "metadata": {},
   "source": [
    "### calculate unique vote combinations for each preference cast "
   ]
  },
  {
   "cell_type": "code",
   "execution_count": 70,
   "metadata": {},
   "outputs": [
    {
     "data": {
      "text/html": [
       "<div>\n",
       "<style scoped>\n",
       "    .dataframe tbody tr th:only-of-type {\n",
       "        vertical-align: middle;\n",
       "    }\n",
       "\n",
       "    .dataframe tbody tr th {\n",
       "        vertical-align: top;\n",
       "    }\n",
       "\n",
       "    .dataframe thead th {\n",
       "        text-align: right;\n",
       "    }\n",
       "</style>\n",
       "<table border=\"1\" class=\"dataframe\">\n",
       "  <thead>\n",
       "    <tr style=\"text-align: right;\">\n",
       "      <th></th>\n",
       "      <th>Pref</th>\n",
       "      <th>Votes</th>\n",
       "      <th>Percentage</th>\n",
       "      <th>nPr</th>\n",
       "      <th>Unique Votes</th>\n",
       "      <th>Percentage Used</th>\n",
       "    </tr>\n",
       "  </thead>\n",
       "  <tbody>\n",
       "    <tr>\n",
       "      <th>0</th>\n",
       "      <td>1.0</td>\n",
       "      <td>3184</td>\n",
       "      <td>5.0</td>\n",
       "      <td>14</td>\n",
       "      <td>14</td>\n",
       "      <td>100.00000</td>\n",
       "    </tr>\n",
       "    <tr>\n",
       "      <th>1</th>\n",
       "      <td>2.0</td>\n",
       "      <td>4250</td>\n",
       "      <td>6.6</td>\n",
       "      <td>182</td>\n",
       "      <td>165</td>\n",
       "      <td>90.65934</td>\n",
       "    </tr>\n",
       "    <tr>\n",
       "      <th>2</th>\n",
       "      <td>3.0</td>\n",
       "      <td>21102</td>\n",
       "      <td>32.9</td>\n",
       "      <td>2184</td>\n",
       "      <td>1419</td>\n",
       "      <td>64.97253</td>\n",
       "    </tr>\n",
       "    <tr>\n",
       "      <th>3</th>\n",
       "      <td>4.0</td>\n",
       "      <td>12004</td>\n",
       "      <td>18.7</td>\n",
       "      <td>24024</td>\n",
       "      <td>3744</td>\n",
       "      <td>15.58442</td>\n",
       "    </tr>\n",
       "    <tr>\n",
       "      <th>4</th>\n",
       "      <td>5.0</td>\n",
       "      <td>8347</td>\n",
       "      <td>13.0</td>\n",
       "      <td>240240</td>\n",
       "      <td>5321</td>\n",
       "      <td>2.21487</td>\n",
       "    </tr>\n",
       "    <tr>\n",
       "      <th>5</th>\n",
       "      <td>6.0</td>\n",
       "      <td>4866</td>\n",
       "      <td>7.6</td>\n",
       "      <td>2162160</td>\n",
       "      <td>4249</td>\n",
       "      <td>0.19652</td>\n",
       "    </tr>\n",
       "    <tr>\n",
       "      <th>6</th>\n",
       "      <td>7.0</td>\n",
       "      <td>2627</td>\n",
       "      <td>4.1</td>\n",
       "      <td>17297280</td>\n",
       "      <td>2543</td>\n",
       "      <td>0.01470</td>\n",
       "    </tr>\n",
       "    <tr>\n",
       "      <th>7</th>\n",
       "      <td>8.0</td>\n",
       "      <td>1736</td>\n",
       "      <td>2.7</td>\n",
       "      <td>121080960</td>\n",
       "      <td>1703</td>\n",
       "      <td>0.00141</td>\n",
       "    </tr>\n",
       "    <tr>\n",
       "      <th>8</th>\n",
       "      <td>9.0</td>\n",
       "      <td>1053</td>\n",
       "      <td>1.6</td>\n",
       "      <td>726485760</td>\n",
       "      <td>1047</td>\n",
       "      <td>0.00014</td>\n",
       "    </tr>\n",
       "    <tr>\n",
       "      <th>9</th>\n",
       "      <td>10.0</td>\n",
       "      <td>880</td>\n",
       "      <td>1.4</td>\n",
       "      <td>3632428800</td>\n",
       "      <td>877</td>\n",
       "      <td>0.00002</td>\n",
       "    </tr>\n",
       "    <tr>\n",
       "      <th>10</th>\n",
       "      <td>11.0</td>\n",
       "      <td>425</td>\n",
       "      <td>0.7</td>\n",
       "      <td>14529715200</td>\n",
       "      <td>424</td>\n",
       "      <td>0.00000</td>\n",
       "    </tr>\n",
       "    <tr>\n",
       "      <th>11</th>\n",
       "      <td>12.0</td>\n",
       "      <td>441</td>\n",
       "      <td>0.7</td>\n",
       "      <td>43589145600</td>\n",
       "      <td>440</td>\n",
       "      <td>0.00000</td>\n",
       "    </tr>\n",
       "    <tr>\n",
       "      <th>12</th>\n",
       "      <td>13.0</td>\n",
       "      <td>676</td>\n",
       "      <td>1.1</td>\n",
       "      <td>87178291200</td>\n",
       "      <td>671</td>\n",
       "      <td>0.00000</td>\n",
       "    </tr>\n",
       "    <tr>\n",
       "      <th>13</th>\n",
       "      <td>14.0</td>\n",
       "      <td>2490</td>\n",
       "      <td>3.9</td>\n",
       "      <td>87178291200</td>\n",
       "      <td>2484</td>\n",
       "      <td>0.00000</td>\n",
       "    </tr>\n",
       "  </tbody>\n",
       "</table>\n",
       "</div>"
      ],
      "text/plain": [
       "    Pref  Votes  Percentage          nPr  Unique Votes  Percentage Used\n",
       "0    1.0   3184         5.0           14            14        100.00000\n",
       "1    2.0   4250         6.6          182           165         90.65934\n",
       "2    3.0  21102        32.9         2184          1419         64.97253\n",
       "3    4.0  12004        18.7        24024          3744         15.58442\n",
       "4    5.0   8347        13.0       240240          5321          2.21487\n",
       "5    6.0   4866         7.6      2162160          4249          0.19652\n",
       "6    7.0   2627         4.1     17297280          2543          0.01470\n",
       "7    8.0   1736         2.7    121080960          1703          0.00141\n",
       "8    9.0   1053         1.6    726485760          1047          0.00014\n",
       "9   10.0    880         1.4   3632428800           877          0.00002\n",
       "10  11.0    425         0.7  14529715200           424          0.00000\n",
       "11  12.0    441         0.7  43589145600           440          0.00000\n",
       "12  13.0    676         1.1  87178291200           671          0.00000\n",
       "13  14.0   2490         3.9  87178291200          2484          0.00000"
      ]
     },
     "metadata": {},
     "output_type": "display_data"
    }
   ],
   "source": [
    "#calculate unique vote combinations for each preference cast \n",
    "dfpref['Unique Votes'] = mval.values\n",
    "\n",
    "\n",
    "dfpref['Percentage Used'] = round(((dfpref['Unique Votes']/dfpref['nPr'])*100), 5)\n",
    "\n",
    "# displaying the dataframe\n",
    "display(dfpref)"
   ]
  },
  {
   "cell_type": "code",
   "execution_count": 44,
   "metadata": {},
   "outputs": [
    {
     "name": "stdout",
     "output_type": "stream",
     "text": [
      "25101\n"
     ]
    }
   ],
   "source": [
    "#just checking \n",
    "print(sum(mval.values))"
   ]
  },
  {
   "cell_type": "code",
   "execution_count": null,
   "metadata": {},
   "outputs": [],
   "source": []
  }
 ],
 "metadata": {
  "kernelspec": {
   "display_name": "Python 3",
   "language": "python",
   "name": "python3"
  },
  "language_info": {
   "codemirror_mode": {
    "name": "ipython",
    "version": 3
   },
   "file_extension": ".py",
   "mimetype": "text/x-python",
   "name": "python",
   "nbconvert_exporter": "python",
   "pygments_lexer": "ipython3",
   "version": "3.8.5"
  }
 },
 "nbformat": 4,
 "nbformat_minor": 4
}
