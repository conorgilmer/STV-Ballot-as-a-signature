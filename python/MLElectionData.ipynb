{
 "cells": [
  {
   "cell_type": "markdown",
   "metadata": {},
   "source": [
    "# Machine Learning Analysis and Classification of STV Data"
   ]
  },
  {
   "cell_type": "code",
   "execution_count": 1,
   "metadata": {},
   "outputs": [],
   "source": [
    "#import python libraries\n",
    "import pandas as pd\n",
    "import numpy as np\n",
    "import matplotlib.pyplot as plt\n",
    "import seaborn as sns\n",
    "import scipy as scp\n",
    "\n",
    "## for machine learning\n",
    "from sklearn import model_selection, preprocessing, feature_selection, ensemble, linear_model, metrics, decomposition\n",
    "\n",
    "#set mathplot to inline (for jupyter)\n",
    "%matplotlib inline "
   ]
  },
  {
   "cell_type": "markdown",
   "metadata": {},
   "source": [
    "## Read in Data"
   ]
  },
  {
   "cell_type": "code",
   "execution_count": 3,
   "metadata": {},
   "outputs": [],
   "source": [
    "#read vote data from csv\n",
    "#input file\n",
    "constituency=\"DublinNorth2002_merged\"\n",
    "in_csv='../data/processed/'+constituency+'.csv'\n",
    "#in_csv ='../data/Meath2002.csv'\n",
    "#in_csv ='../data/DublinNorth2002.csv'\n",
    "#in_csv ='../data/DublinWest2002.csv'\n",
    "\n",
    "#read in data (setting 1st row as header)\n",
    "df = pd.read_csv(in_csv,  header=[0])\n",
    "\n",
    "#set column names as first line\n",
    "#drop the numbers column (#df=df.drop(['No.'], 1))\n",
    "df = df.drop(df.columns[[0]], axis=1)  # df.columns is zero-based pd.Index\n",
    "#reset index to start a 1 and not 0\n",
    "df.index = df.index + 1"
   ]
  },
  {
   "cell_type": "code",
   "execution_count": 4,
   "metadata": {},
   "outputs": [
    {
     "name": "stdout",
     "output_type": "stream",
     "text": [
      "Print Data Frame (df)\n",
      "    FG   SP    SF    FF   NP  FF.1  FG.1  NP.1   LB   GP  NP.2  FF.2  \\\n",
      "1  NaN  NaN   NaN   3.0  NaN   2.0   NaN   4.0  NaN  5.0   NaN   1.0   \n",
      "2  5.0  2.0   NaN   NaN  4.0   NaN   3.0   NaN  NaN  1.0   NaN   NaN   \n",
      "3  2.0  7.0  12.0   1.0  6.0   8.0   3.0  11.0  5.0  4.0  10.0   9.0   \n",
      "4  4.0  NaN   NaN   NaN  NaN   5.0   2.0   6.0  NaN  1.0   NaN   3.0   \n",
      "5  6.0  3.0   NaN  11.0  5.0  10.0   4.0   8.0  1.0  2.0   7.0   9.0   \n",
      "\n",
      "   maxValues  Euclid Dist  Avg. Euc. Dist  Seq  \n",
      "1        5.0     5.701613        1.425403    1  \n",
      "2        5.0    26.252826        6.563206    1  \n",
      "3       12.0    38.063162        3.460287    1  \n",
      "4        6.0    12.844468        2.568894    1  \n",
      "5       11.0    36.935009        3.693501    1  \n",
      "Print Column names\n",
      "Index(['FG', 'SP', 'SF', 'FF', 'NP', 'FF.1', 'FG.1', 'NP.1', 'LB', 'GP',\n",
      "       'NP.2', 'FF.2', 'maxValues', 'Euclid Dist', 'Avg. Euc. Dist', 'Seq'],\n",
      "      dtype='object')\n"
     ]
    }
   ],
   "source": [
    "#print input data frame details\n",
    "print(\"Print Data Frame (df)\")\n",
    "print(df.head())\n",
    "print(\"Print Column names\")\n",
    "print(df.columns)"
   ]
  },
  {
   "cell_type": "markdown",
   "metadata": {},
   "source": [
    "## Data Analysis"
   ]
  },
  {
   "cell_type": "code",
   "execution_count": 6,
   "metadata": {},
   "outputs": [
    {
     "name": "stdout",
     "output_type": "stream",
     "text": [
      "<class 'pandas.core.frame.DataFrame'>\n",
      "RangeIndex: 39289 entries, 1 to 39289\n",
      "Data columns (total 16 columns):\n",
      " #   Column          Non-Null Count  Dtype  \n",
      "---  ------          --------------  -----  \n",
      " 0   FG              22966 non-null  float64\n",
      " 1   SP              24698 non-null  float64\n",
      " 2   SF              19711 non-null  float64\n",
      " 3   FF              24363 non-null  float64\n",
      " 4   NP              21535 non-null  float64\n",
      " 5   FF.1            24048 non-null  float64\n",
      " 6   FG.1            24362 non-null  float64\n",
      " 7   NP.1            19841 non-null  float64\n",
      " 8   LB              26432 non-null  float64\n",
      " 9   GP              27590 non-null  float64\n",
      " 10  NP.2            18856 non-null  float64\n",
      " 11  FF.2            24175 non-null  float64\n",
      " 12  maxValues       39289 non-null  float64\n",
      " 13  Euclid Dist     39289 non-null  float64\n",
      " 14  Avg. Euc. Dist  39289 non-null  float64\n",
      " 15  Seq             39289 non-null  int64  \n",
      "dtypes: float64(15), int64(1)\n",
      "memory usage: 4.8 MB\n"
     ]
    }
   ],
   "source": [
    "#data preprocessing\n",
    "df.info()\n",
    "\n",
    "#backup dataset\n",
    "dataset_clean=df.copy()"
   ]
  },
  {
   "cell_type": "code",
   "execution_count": 5,
   "metadata": {},
   "outputs": [
    {
     "data": {
      "image/png": "[encoded data removed]",
      "text/plain": [
       "<Figure size 432x288 with 1 Axes>"
      ]
     },
     "metadata": {
      "needs_background": "light"
     },
     "output_type": "display_data"
    }
   ],
   "source": [
    "# how balanced is the dataset?\n",
    "sns.countplot(x='Seq', data = df)\n",
    "plt.ylabel('Number of 1s & 0s in Target column.')\n",
    "plt.show()"
   ]
  },
  {
   "cell_type": "code",
   "execution_count": null,
   "metadata": {},
   "outputs": [],
   "source": [
    "#Exploratory Data Analysis"
   ]
  },
  {
   "cell_type": "markdown",
   "metadata": {},
   "source": [
    "## Feature Engineering"
   ]
  },
  {
   "cell_type": "code",
   "execution_count": 14,
   "metadata": {},
   "outputs": [
    {
     "name": "stdout",
     "output_type": "stream",
     "text": [
      "['FG', 'SP', 'SF', 'FF', 'NP', 'FF', 'FG', 'NP', 'LB', 'GP', 'NP', 'FF']\n",
      "['maxValues', 'Euclid Dist', 'Avg. Euc. Dist', 'Seq']\n"
     ]
    }
   ],
   "source": [
    "#Feature Engineering\n",
    "cols = list(df.columns)\n",
    "#cols.pop()\n",
    "cat_f = cols[:-4]\n",
    "cat_features=[]\n",
    "# remove number at the end of party\n",
    "for cf in cat_f:\n",
    "    cat_features.append(cf[:2])\n",
    "\n",
    "num_features = ['maxValues', 'Euclid Dist', 'Avg. Euc. Dist', 'Seq']\n",
    "print(cat_features)\n",
    "print(num_features)"
   ]
  },
  {
   "cell_type": "code",
   "execution_count": null,
   "metadata": {},
   "outputs": [],
   "source": [
    "#Feature Extraction"
   ]
  },
  {
   "cell_type": "code",
   "execution_count": null,
   "metadata": {},
   "outputs": [],
   "source": [
    "#Split Data Set into Test and Train"
   ]
  },
  {
   "cell_type": "markdown",
   "metadata": {},
   "source": [
    "## Model Selection"
   ]
  },
  {
   "cell_type": "code",
   "execution_count": null,
   "metadata": {},
   "outputs": [],
   "source": [
    "#Model Selection\n",
    "# Logistic Regression, Random Forrest, CNN etc."
   ]
  }
 ],
 "metadata": {
  "kernelspec": {
   "display_name": "Python 3",
   "language": "python",
   "name": "python3"
  },
  "language_info": {
   "codemirror_mode": {
    "name": "ipython",
    "version": 3
   },
   "file_extension": ".py",
   "mimetype": "text/x-python",
   "name": "python",
   "nbconvert_exporter": "python",
   "pygments_lexer": "ipython3",
   "version": "3.8.5"
  }
 },
 "nbformat": 4,
 "nbformat_minor": 4
}
