{
 "cells": [
  {
   "cell_type": "markdown",
   "metadata": {},
   "source": [
    "# Generate Random numbers nPr with r between 2 values"
   ]
  },
  {
   "cell_type": "code",
   "execution_count": 1,
   "metadata": {},
   "outputs": [],
   "source": [
    "#generate random permutations nPr = P(n,r) = n!/(n-r)!\n",
    "import random\n",
    "import itertools\n",
    "import pandas as pd\n",
    "\n",
    "n = 12 #candidates (Meath 14, Dublin North 12, Dublin West 9)\n",
    "r = 7  #preference cast\n",
    "o = 10 #number of permutations to be generated\n",
    "nlist = list(range(1, n+1)) \n",
    "\n",
    "randGenPer = random.sample(list(itertools.permutations(nlist, r)), o)"
   ]
  },
  {
   "cell_type": "code",
   "execution_count": 2,
   "metadata": {},
   "outputs": [],
   "source": [
    "rEnd=10\n",
    "r=r+1 #first already generated\n",
    "#generate permutations for each value of r from r to rEnd\n",
    "for r2 in range(r,rEnd,1): #range(start, stop, step)\n",
    "    randGenPer = randGenPer + random.sample(list(itertools.permutations(nlist, r2)), 3)"
   ]
  },
  {
   "cell_type": "markdown",
   "metadata": {},
   "source": [
    "## Make data frame from list and write to file"
   ]
  },
  {
   "cell_type": "code",
   "execution_count": 3,
   "metadata": {},
   "outputs": [],
   "source": [
    "#generate data frame from list\n",
    "dfRandGenPer = pd.DataFrame(randGenPer)\n",
    "#drop all dublicate rows keeping last one\n",
    "dfRandGenPer.drop_duplicates(keep='last', inplace=True)"
   ]
  },
  {
   "cell_type": "code",
   "execution_count": 6,
   "metadata": {},
   "outputs": [],
   "source": [
    "#write to csv file\n",
    "dfRandGenPer.to_csv('../data/randGenPer-'+str(n)+'P'+str(r)+'-r-'+str(r)+'to'+str(rEnd)+'.csv')"
   ]
  },
  {
   "cell_type": "code",
   "execution_count": null,
   "metadata": {},
   "outputs": [],
   "source": []
  }
 ],
 "metadata": {
  "kernelspec": {
   "display_name": "Python 3",
   "language": "python",
   "name": "python3"
  },
  "language_info": {
   "codemirror_mode": {
    "name": "ipython",
    "version": 3
   },
   "file_extension": ".py",
   "mimetype": "text/x-python",
   "name": "python",
   "nbconvert_exporter": "python",
   "pygments_lexer": "ipython3",
   "version": "3.8.5"
  }
 },
 "nbformat": 4,
 "nbformat_minor": 4
}
